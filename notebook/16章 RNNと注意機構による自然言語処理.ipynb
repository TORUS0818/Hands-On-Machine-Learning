{
 "cells": [
  {
   "cell_type": "markdown",
   "id": "b2ad90f0-1515-436d-aba5-d95ad69287eb",
   "metadata": {},
   "source": [
    "# Setup"
   ]
  },
  {
   "cell_type": "code",
   "execution_count": 1,
   "id": "5a07f523-7368-4db7-be21-fccb115e092a",
   "metadata": {},
   "outputs": [],
   "source": [
    "# Python ≥3.5 is required\n",
    "import sys\n",
    "assert sys.version_info >= (3, 5)\n",
    "\n",
    "# Scikit-Learn ≥0.20 is required\n",
    "import sklearn\n",
    "assert sklearn.__version__ >= \"0.20\"\n",
    "\n",
    "# TensorFlow ≥2.0 is required\n",
    "import tensorflow as tf\n",
    "from tensorflow import keras\n",
    "assert tf.__version__ >= \"2.0\"\n",
    "\n",
    "# Common imports\n",
    "import numpy as np\n",
    "import os\n",
    "from pathlib import Path\n",
    "\n",
    "# to make this notebook's output stable across runs\n",
    "np.random.seed(42)\n",
    "tf.random.set_seed(42)\n",
    "\n",
    "# To plot pretty figures\n",
    "%matplotlib inline\n",
    "import matplotlib as mpl\n",
    "import matplotlib.pyplot as plt\n",
    "mpl.rc('axes', labelsize=14)\n",
    "mpl.rc('xtick', labelsize=12)\n",
    "mpl.rc('ytick', labelsize=12)\n",
    "\n",
    "# To get smooth animations\n",
    "import matplotlib.animation as animation\n",
    "mpl.rc('animation', html='jshtml')\n",
    "\n",
    "# Where to save the figures\n",
    "PROJECT_ROOT_DIR = \".\"\n",
    "CHAPTER_ID = \"chapter_16\"\n",
    "IMAGES_PATH = os.path.join(PROJECT_ROOT_DIR, \"images\", CHAPTER_ID)\n",
    "MODELS_PATH = os.path.join(PROJECT_ROOT_DIR, \"models\", CHAPTER_ID)\n",
    "LOGS_PATH = os.path.join(PROJECT_ROOT_DIR, \"logs\", CHAPTER_ID)\n",
    "os.makedirs(IMAGES_PATH, exist_ok=True)\n",
    "os.makedirs(MODELS_PATH, exist_ok=True)\n",
    "os.makedirs(LOGS_PATH, exist_ok=True)"
   ]
  },
  {
   "cell_type": "code",
   "execution_count": 2,
   "id": "0b25ffa1-8858-458f-b107-17083477bebf",
   "metadata": {},
   "outputs": [],
   "source": [
    "def save_fig(fig_id, tight_layout=True, fig_extension=\"png\", resolution=300):\n",
    "    path = os.path.join(IMAGES_PATH, fig_id + \".\" + fig_extension)\n",
    "    print(\"Saving figure\", fig_id)\n",
    "    if tight_layout:\n",
    "        plt.tight_layout()\n",
    "    plt.savefig(path, format=fig_extension, dpi=resolution)"
   ]
  },
  {
   "cell_type": "markdown",
   "id": "e5c5a5b8-f479-4f37-aa54-ea6a53d77776",
   "metadata": {},
   "source": [
    "# 16.1 文字RNNを使ったシェイクスピア風テキストの生成"
   ]
  },
  {
   "cell_type": "markdown",
   "id": "6e3db13c-e1c7-458f-ad7f-891fc3da279f",
   "metadata": {},
   "source": [
    "- データ分割の例\n",
    "- 0から14までの数値をwindow size5で2個ずらしながらまとめていく\n",
    "- 最初の4つをX、1つずらして4つをYとしてデータを作成"
   ]
  },
  {
   "cell_type": "code",
   "execution_count": 3,
   "id": "0202b0a9-4dea-4c5e-a908-191097d92692",
   "metadata": {},
   "outputs": [
    {
     "name": "stdout",
     "output_type": "stream",
     "text": [
      "____________________ Batch 0 \n",
      "X_batch\n",
      "[[6 7 8 9]\n",
      " [2 3 4 5]\n",
      " [4 5 6 7]]\n",
      "===== \n",
      "Y_batch\n",
      "[[ 7  8  9 10]\n",
      " [ 3  4  5  6]\n",
      " [ 5  6  7  8]]\n",
      "____________________ Batch 1 \n",
      "X_batch\n",
      "[[ 0  1  2  3]\n",
      " [ 8  9 10 11]\n",
      " [10 11 12 13]]\n",
      "===== \n",
      "Y_batch\n",
      "[[ 1  2  3  4]\n",
      " [ 9 10 11 12]\n",
      " [11 12 13 14]]\n"
     ]
    },
    {
     "name": "stderr",
     "output_type": "stream",
     "text": [
      "2022-01-30 12:16:07.533509: W tensorflow/core/platform/profile_utils/cpu_utils.cc:128] Failed to get CPU frequency: 0 Hz\n"
     ]
    }
   ],
   "source": [
    "np.random.seed(42)\n",
    "tf.random.set_seed(42)\n",
    "\n",
    "n_steps = 5\n",
    "dataset = tf.data.Dataset.from_tensor_slices(tf.range(15))\n",
    "dataset = dataset.window(n_steps, shift=2, drop_remainder=True)\n",
    "dataset = dataset.flat_map(lambda window: window.batch(n_steps))\n",
    "dataset = dataset.shuffle(10).map(lambda window: (window[:-1], window[1:]))\n",
    "dataset = dataset.batch(3).prefetch(1)\n",
    "for index, (X_batch, Y_batch) in enumerate(dataset):\n",
    "    print(\"_\" * 20, \"Batch\", index, \"\\nX_batch\")\n",
    "    print(X_batch.numpy())\n",
    "    print(\"=\" * 5, \"\\nY_batch\")\n",
    "    print(Y_batch.numpy())"
   ]
  },
  {
   "cell_type": "markdown",
   "id": "8b38ad64-6e30-494c-b678-f3b92ce2bab3",
   "metadata": {},
   "source": [
    "### 16.1.1 訓練セットの作り方"
   ]
  },
  {
   "cell_type": "code",
   "execution_count": 4,
   "id": "741e8d70-0f40-4df4-83ab-7f8c82bfa2fa",
   "metadata": {},
   "outputs": [
    {
     "name": "stdout",
     "output_type": "stream",
     "text": [
      "Downloading data from https://raw.githubusercontent.com/karpathy/char-rnn/master/data/tinyshakespeare/input.txt\n",
      "1122304/1115394 [==============================] - 0s 0us/step\n",
      "1130496/1115394 [==============================] - 0s 0us/step\n"
     ]
    }
   ],
   "source": [
    "shakespeare_url = \"https://raw.githubusercontent.com/karpathy/char-rnn/master/data/tinyshakespeare/input.txt\"\n",
    "filepath = keras.utils.get_file(\"shakespeare.txt\", shakespeare_url)\n",
    "with open(filepath) as f:\n",
    "    shakespeare_text = f.read()"
   ]
  },
  {
   "cell_type": "code",
   "execution_count": 5,
   "id": "dafffa87-d152-444a-9ceb-925e026e5fcc",
   "metadata": {},
   "outputs": [
    {
     "name": "stdout",
     "output_type": "stream",
     "text": [
      "First Citizen:\n",
      "Before we proceed any further, hear me speak.\n",
      "\n",
      "All:\n",
      "Speak, speak.\n",
      "\n",
      "First Citizen:\n",
      "You are all resolved rather to die than to famish?\n",
      "\n"
     ]
    }
   ],
   "source": [
    "print(shakespeare_text[:148])"
   ]
  },
  {
   "cell_type": "code",
   "execution_count": 6,
   "id": "98451a55-1708-47d7-bc0a-981ab64ad4d9",
   "metadata": {},
   "outputs": [
    {
     "data": {
      "text/plain": [
       "\"\\n !$&',-.3:;?abcdefghijklmnopqrstuvwxyz\""
      ]
     },
     "execution_count": 6,
     "metadata": {},
     "output_type": "execute_result"
    }
   ],
   "source": [
    "\"\".join(sorted(set(shakespeare_text.lower())))"
   ]
  },
  {
   "cell_type": "markdown",
   "id": "3f04afb3-3fe7-4f83-931f-e530fe08f0d9",
   "metadata": {},
   "source": [
    "- Tokenizerを使って文字を数値に変換する"
   ]
  },
  {
   "cell_type": "code",
   "execution_count": 7,
   "id": "b1170481-8d75-4d4b-a4ee-70f5275ede85",
   "metadata": {},
   "outputs": [],
   "source": [
    "tokenizer = keras.preprocessing.text.Tokenizer(char_level=True)\n",
    "tokenizer.fit_on_texts(shakespeare_text)"
   ]
  },
  {
   "cell_type": "code",
   "execution_count": 8,
   "id": "6e24450d-dfdc-43f1-919a-a23528414236",
   "metadata": {},
   "outputs": [
    {
     "data": {
      "text/plain": [
       "[[20, 6, 9, 8, 3]]"
      ]
     },
     "execution_count": 8,
     "metadata": {},
     "output_type": "execute_result"
    }
   ],
   "source": [
    "tokenizer.texts_to_sequences([\"First\"])"
   ]
  },
  {
   "cell_type": "code",
   "execution_count": 9,
   "id": "f2197431-9a51-41f2-a0fe-11b22f07efc8",
   "metadata": {},
   "outputs": [
    {
     "data": {
      "text/plain": [
       "['f i r s t']"
      ]
     },
     "execution_count": 9,
     "metadata": {},
     "output_type": "execute_result"
    }
   ],
   "source": [
    "tokenizer.sequences_to_texts([[20, 6, 9, 8, 3]])"
   ]
  },
  {
   "cell_type": "code",
   "execution_count": 10,
   "id": "da6739d6-3b8e-438c-b025-35205e23075a",
   "metadata": {},
   "outputs": [],
   "source": [
    "max_id = len(tokenizer.word_index)\n",
    "dataset_size = tokenizer.document_count"
   ]
  },
  {
   "cell_type": "markdown",
   "id": "1eb11976-3785-4fac-a08e-3728e4ed8bbd",
   "metadata": {},
   "source": [
    "### 16.1.2 シーケンシャルデータセットの分割方法"
   ]
  },
  {
   "cell_type": "code",
   "execution_count": 12,
   "id": "6317cacd-4fd6-468a-aca9-f2978e73a7dc",
   "metadata": {},
   "outputs": [],
   "source": [
    "[encoded] = np.array(tokenizer.texts_to_sequences([shakespeare_text])) - 1\n",
    "train_size = dataset_size * 90 // 100\n",
    "dataset = tf.data.Dataset.from_tensor_slices(encoded[:train_size])"
   ]
  },
  {
   "cell_type": "markdown",
   "id": "f9ba86ad-738f-43c7-bc28-c7a684f6cb51",
   "metadata": {},
   "source": [
    "### 16.1.3 シーケンシャルデータセットの複数のウィンドウへの分割"
   ]
  },
  {
   "cell_type": "code",
   "execution_count": 13,
   "id": "f442c263-a4d1-4244-bd63-ab8081dc4679",
   "metadata": {},
   "outputs": [],
   "source": [
    "n_steps = 100\n",
    "window_length = n_steps + 1\n",
    "dataset = dataset.window(window_length, shift=1, drop_remainder=True)"
   ]
  },
  {
   "cell_type": "code",
   "execution_count": 14,
   "id": "b48edbc2-f0b6-46a5-8d9e-b863d3d2f48e",
   "metadata": {},
   "outputs": [],
   "source": [
    "dataset = dataset.flat_map(lambda window: window.batch(window_length))"
   ]
  },
  {
   "cell_type": "code",
   "execution_count": 15,
   "id": "ad7666cd-d317-4cba-9f7c-8b50071c6530",
   "metadata": {},
   "outputs": [],
   "source": [
    "np.random.seed(42)\n",
    "tf.random.set_seed(42)"
   ]
  },
  {
   "cell_type": "code",
   "execution_count": 16,
   "id": "6384337e-d9a8-4d2c-bcba-75c6ff80bba3",
   "metadata": {},
   "outputs": [],
   "source": [
    "batch_size = 32\n",
    "dataset = dataset.shuffle(10000).batch(batch_size)\n",
    "dataset = dataset.map(lambda windows: (windows[:, :-1], windows[:, 1:]))"
   ]
  },
  {
   "cell_type": "code",
   "execution_count": 17,
   "id": "0456870c-a62f-410d-81d6-9f553b103d05",
   "metadata": {},
   "outputs": [],
   "source": [
    "dataset = dataset.map(\n",
    "    lambda X_batch, Y_batch: (tf.one_hot(X_batch, depth=max_id), Y_batch))"
   ]
  },
  {
   "cell_type": "code",
   "execution_count": 18,
   "id": "e7983abd-82e7-450e-94f6-a1de707e4e1c",
   "metadata": {},
   "outputs": [],
   "source": [
    "dataset = dataset.prefetch(1)"
   ]
  },
  {
   "cell_type": "code",
   "execution_count": 19,
   "id": "3d314c38-e4bb-4548-9e18-1ed5772f37d9",
   "metadata": {},
   "outputs": [
    {
     "name": "stdout",
     "output_type": "stream",
     "text": [
      "(32, 100, 39) (32, 100)\n"
     ]
    }
   ],
   "source": [
    "for X_batch, Y_batch in dataset.take(1):\n",
    "    print(X_batch.shape, Y_batch.shape)"
   ]
  },
  {
   "cell_type": "markdown",
   "id": "2cb876d2-bf74-48e5-bf11-3878633289f7",
   "metadata": {},
   "source": [
    "### 16.1.4 文字RNNモデルの構築と訓練"
   ]
  },
  {
   "cell_type": "code",
   "execution_count": null,
   "id": "d879c184-f0eb-44de-9d6d-db3ca4997b20",
   "metadata": {},
   "outputs": [
    {
     "name": "stdout",
     "output_type": "stream",
     "text": [
      "Epoch 1/10\n",
      "31368/31368 [==============================] - 8026s 256ms/step - loss: 1.4604\n",
      "Epoch 2/10\n",
      "31368/31368 [==============================] - 7978s 254ms/step - loss: 1.3556\n",
      "Epoch 3/10\n",
      "31368/31368 [==============================] - 7065s 225ms/step - loss: 1.3369\n",
      "Epoch 4/10\n",
      "31368/31368 [==============================] - 6223s 198ms/step - loss: 1.3278\n",
      "Epoch 5/10\n",
      "31368/31368 [==============================] - 7877s 251ms/step - loss: 1.3218\n",
      "Epoch 6/10\n",
      "31368/31368 [==============================] - 6688s 213ms/step - loss: 1.3177\n",
      "Epoch 7/10\n",
      "31368/31368 [==============================] - 9635s 307ms/step - loss: 1.3150\n",
      "Epoch 8/10\n",
      "31368/31368 [==============================] - 6189s 197ms/step - loss: 1.3126\n",
      "Epoch 9/10\n",
      "31368/31368 [==============================] - 6196s 197ms/step - loss: 1.3105\n",
      "Epoch 10/10\n",
      "31368/31368 [==============================] - 6234s 199ms/step - loss: 1.3086\n"
     ]
    }
   ],
   "source": [
    "model = keras.models.Sequential([\n",
    "    keras.layers.GRU(128, return_sequences=True, input_shape=[None, max_id],\n",
    "                     dropout=0.2, recurrent_dropout=0.2),\n",
    "    keras.layers.GRU(128, return_sequences=True,\n",
    "                     dropout=0.2, recurrent_dropout=0.2),\n",
    "    keras.layers.TimeDistributed(keras.layers.Dense(max_id,\n",
    "                                                    activation=\"softmax\"))\n",
    "])\n",
    "model.compile(loss=\"sparse_categorical_crossentropy\", optimizer=\"adam\")\n",
    "history = model.fit(dataset, epochs=10)"
   ]
  },
  {
   "cell_type": "markdown",
   "id": "8f0b7420-6e72-4598-bde0-8250636a72e9",
   "metadata": {},
   "source": [
    "### 16.1.5 文字RNNモデルの使い方"
   ]
  },
  {
   "cell_type": "code",
   "execution_count": 28,
   "id": "97366adf-fbe7-4538-818c-51b89a3072e8",
   "metadata": {},
   "outputs": [],
   "source": [
    "def preprocess(texts):\n",
    "    X = np.array(tokenizer.texts_to_sequences(texts)) - 1\n",
    "    return tf.one_hot(X, max_id)"
   ]
  },
  {
   "cell_type": "code",
   "execution_count": 29,
   "id": "ee752db8-b230-4c0a-9a45-f20797f25d12",
   "metadata": {},
   "outputs": [
    {
     "data": {
      "text/plain": [
       "'u'"
      ]
     },
     "execution_count": 29,
     "metadata": {},
     "output_type": "execute_result"
    }
   ],
   "source": [
    "X_new = preprocess([\"How are yo\"])\n",
    "Y_pred = np.argmax(model(X_new), axis=-1)\n",
    "tokenizer.sequences_to_texts(Y_pred + 1)[0][-1] # 1st sentence, last char"
   ]
  },
  {
   "cell_type": "code",
   "execution_count": 27,
   "id": "1204a679-dd0f-450a-9509-65ee9c77ecce",
   "metadata": {},
   "outputs": [
    {
     "data": {
      "text/plain": [
       "array([[0, 1, 0, 2, 1, 0, 0, 1, 0, 0, 1, 1, 0, 1, 1, 1, 0, 2, 1, 0, 2, 1,\n",
       "        0, 1, 2, 1, 1, 1, 2, 0, 0, 1, 0, 0, 1, 0, 1, 0, 0, 2]])"
      ]
     },
     "execution_count": 27,
     "metadata": {},
     "output_type": "execute_result"
    }
   ],
   "source": [
    "tf.random.set_seed(42)\n",
    "tf.random.categorical([[np.log(0.5), np.log(0.4), np.log(0.1)]], num_samples=40).numpy()"
   ]
  },
  {
   "cell_type": "markdown",
   "id": "cd327002-49d3-4304-8d14-e110b628f28c",
   "metadata": {},
   "source": [
    "### 16.1.6 シェイクスピア風の偽文書の生成"
   ]
  },
  {
   "cell_type": "code",
   "execution_count": 44,
   "id": "12d93bd5-3ca1-49f8-86a4-52fad5edbf23",
   "metadata": {},
   "outputs": [],
   "source": [
    "# 確率で選ばれるようにすることで、多様性が出るようにする\n",
    "def next_char(text, temperature=1):\n",
    "    X_new = preprocess([text])\n",
    "    y_proba = model(X_new)[0, -1:, :]\n",
    "    rescaled_logits = tf.math.log(y_proba) / temperature\n",
    "    char_id = tf.random.categorical(rescaled_logits, num_samples=1) + 1\n",
    "    return tokenizer.sequences_to_texts(char_id.numpy())[0]"
   ]
  },
  {
   "cell_type": "code",
   "execution_count": 43,
   "id": "c83f5544-740c-433b-8542-3f1f5984abd0",
   "metadata": {},
   "outputs": [
    {
     "data": {
      "text/plain": [
       "<tf.Tensor: shape=(1, 39), dtype=float32, numpy=\n",
       "array([[1.3782817e-05, 4.9199530e-06, 1.6791293e-04, 6.5346612e-05,\n",
       "        8.1303888e-06, 3.2696607e-07, 3.4155782e-08, 2.5586796e-06,\n",
       "        3.1187541e-05, 3.5413343e-04, 2.9682221e-06, 9.5898895e-07,\n",
       "        2.0133903e-07, 9.9931097e-01, 1.0373039e-06, 6.5624528e-07,\n",
       "        9.5302494e-06, 3.3755605e-06, 9.4307095e-09, 3.2183325e-06,\n",
       "        7.6802706e-09, 2.0930509e-06, 3.4111189e-08, 1.0058047e-06,\n",
       "        4.1352371e-07, 7.0602555e-06, 2.3807338e-06, 1.9729231e-07,\n",
       "        1.3993091e-06, 3.4048232e-06, 3.4158131e-08, 3.0467902e-07,\n",
       "        1.9948081e-10, 4.4070844e-10, 2.9673529e-08, 1.3899715e-07,\n",
       "        6.2046417e-11, 5.8499468e-12, 4.5387353e-12]], dtype=float32)>"
      ]
     },
     "execution_count": 43,
     "metadata": {},
     "output_type": "execute_result"
    }
   ],
   "source": [
    "model(preprocess([\"How are yo\"]))[0, -1:, :]"
   ]
  },
  {
   "cell_type": "code",
   "execution_count": 31,
   "id": "30fe212e-3ae0-43e5-bb5d-d7602a0845d2",
   "metadata": {},
   "outputs": [
    {
     "data": {
      "text/plain": [
       "'u'"
      ]
     },
     "execution_count": 31,
     "metadata": {},
     "output_type": "execute_result"
    }
   ],
   "source": [
    "tf.random.set_seed(42)\n",
    "next_char(\"How are yo\", temperature=1)"
   ]
  },
  {
   "cell_type": "code",
   "execution_count": 34,
   "id": "a29836db-731b-4dcd-910f-e4e01e182fba",
   "metadata": {},
   "outputs": [],
   "source": [
    "def complete_text(text, n_chars=50, temperature=1):\n",
    "    for _ in range(n_chars):\n",
    "        text += next_char(text, temperature)\n",
    "    return text"
   ]
  },
  {
   "cell_type": "code",
   "execution_count": 35,
   "id": "93af8480-c91e-454e-89be-2f019e4f2fe0",
   "metadata": {},
   "outputs": [
    {
     "name": "stdout",
     "output_type": "stream",
     "text": [
      "there is not the needless to her.\n",
      "\n",
      "gremio:\n",
      "what, i \n"
     ]
    }
   ],
   "source": [
    "tf.random.set_seed(42)\n",
    "print(complete_text(\"t\", temperature=0.2))"
   ]
  },
  {
   "cell_type": "code",
   "execution_count": 37,
   "id": "dd53c88f-2ca8-4f57-bd3a-4dd6760602a8",
   "metadata": {},
   "outputs": [
    {
     "name": "stdout",
     "output_type": "stream",
     "text": [
      "to puilt her thund in so.\n",
      "\n",
      "gremio:\n",
      "my master, there\n"
     ]
    }
   ],
   "source": [
    "tf.random.set_seed(42)\n",
    "print(complete_text(\"t\", temperature=1))"
   ]
  },
  {
   "cell_type": "code",
   "execution_count": 38,
   "id": "d889f6b8-8d8b-4634-be2d-2ee16b2b7c83",
   "metadata": {},
   "outputs": [
    {
     "name": "stdout",
     "output_type": "stream",
     "text": [
      "ta,fullets me full darde.\n",
      "nor no'erwiad, gly'- mess\n"
     ]
    }
   ],
   "source": [
    "tf.random.set_seed(42)\n",
    "print(complete_text(\"t\", temperature=2))"
   ]
  },
  {
   "cell_type": "markdown",
   "id": "4842cae9-a044-4035-b071-c2942070f77f",
   "metadata": {},
   "source": [
    "### 16.1.7 ステートフルRNN"
   ]
  },
  {
   "cell_type": "code",
   "execution_count": 48,
   "id": "a98ff9c5-5e77-4bdd-bebf-b8b5f2bc9d08",
   "metadata": {},
   "outputs": [],
   "source": [
    "tf.random.set_seed(42)"
   ]
  },
  {
   "cell_type": "code",
   "execution_count": 49,
   "id": "c12adaf1-e061-4242-b29f-78436f658595",
   "metadata": {},
   "outputs": [],
   "source": [
    "dataset = tf.data.Dataset.from_tensor_slices(encoded[:train_size])\n",
    "dataset = dataset.window(window_length, shift=n_steps, drop_remainder=True)\n",
    "dataset = dataset.flat_map(lambda window: window.batch(window_length))\n",
    "dataset = dataset.batch(1)\n",
    "dataset = dataset.map(lambda windows: (windows[:, :-1], windows[:, 1:]))\n",
    "dataset = dataset.map(\n",
    "    lambda X_batch, Y_batch: (tf.one_hot(X_batch, depth=max_id), Y_batch))\n",
    "dataset = dataset.prefetch(1)"
   ]
  },
  {
   "cell_type": "code",
   "execution_count": 50,
   "id": "a2a65d43-a2a2-45d4-bee9-3f8312e1ba2f",
   "metadata": {},
   "outputs": [],
   "source": [
    "batch_size = 32\n",
    "encoded_parts = np.array_split(encoded[:train_size], batch_size)\n",
    "datasets = []\n",
    "for encoded_part in encoded_parts:\n",
    "    dataset = tf.data.Dataset.from_tensor_slices(encoded_part)\n",
    "    dataset = dataset.window(window_length, shift=n_steps, drop_remainder=True)\n",
    "    dataset = dataset.flat_map(lambda window: window.batch(window_length))\n",
    "    datasets.append(dataset)\n",
    "dataset = tf.data.Dataset.zip(tuple(datasets)).map(lambda *windows: tf.stack(windows))\n",
    "dataset = dataset.map(lambda windows: (windows[:, :-1], windows[:, 1:]))\n",
    "dataset = dataset.map(\n",
    "    lambda X_batch, Y_batch: (tf.one_hot(X_batch, depth=max_id), Y_batch))\n",
    "dataset = dataset.prefetch(1)"
   ]
  },
  {
   "cell_type": "code",
   "execution_count": 53,
   "id": "cb5b59df-e8a9-4f33-95a0-cb0307821006",
   "metadata": {},
   "outputs": [],
   "source": [
    "model = keras.models.Sequential([\n",
    "    keras.layers.GRU(128, return_sequences=True, stateful=True,\n",
    "                     dropout=0.2, recurrent_dropout=0.2,\n",
    "                     batch_input_shape=[batch_size, None, max_id]),\n",
    "    keras.layers.GRU(128, return_sequences=True, stateful=True,\n",
    "                     dropout=0.2, recurrent_dropout=0.2),\n",
    "    keras.layers.TimeDistributed(keras.layers.Dense(max_id,\n",
    "                                                    activation=\"softmax\"))\n",
    "])"
   ]
  },
  {
   "cell_type": "code",
   "execution_count": 54,
   "id": "48148596-afab-4016-a629-f44381ff4e79",
   "metadata": {},
   "outputs": [],
   "source": [
    "class ResetStatesCallback(keras.callbacks.Callback):\n",
    "    def on_epoch_begin(self, epoch, logs):\n",
    "        self.model.reset_states()"
   ]
  },
  {
   "cell_type": "code",
   "execution_count": 55,
   "id": "6fc6cc68-384b-424e-9deb-42bf1af47a25",
   "metadata": {},
   "outputs": [
    {
     "name": "stdout",
     "output_type": "stream",
     "text": [
      "Epoch 1/50\n",
      "313/313 [==============================] - 57s 180ms/step - loss: 2.6186\n",
      "Epoch 2/50\n",
      "313/313 [==============================] - 58s 185ms/step - loss: 2.1767\n",
      "Epoch 3/50\n",
      "313/313 [==============================] - 57s 181ms/step - loss: 2.5134\n",
      "Epoch 4/50\n",
      "313/313 [==============================] - 57s 181ms/step - loss: 2.2904\n",
      "Epoch 5/50\n",
      "313/313 [==============================] - 57s 181ms/step - loss: 2.2198\n",
      "Epoch 6/50\n",
      "313/313 [==============================] - 57s 182ms/step - loss: 2.2328\n",
      "Epoch 7/50\n",
      "313/313 [==============================] - 57s 182ms/step - loss: 2.1230\n",
      "Epoch 8/50\n",
      "313/313 [==============================] - 56s 180ms/step - loss: 2.0851\n",
      "Epoch 9/50\n",
      "313/313 [==============================] - 57s 181ms/step - loss: 2.0752\n",
      "Epoch 10/50\n",
      "313/313 [==============================] - 56s 180ms/step - loss: 2.0287\n",
      "Epoch 11/50\n",
      "313/313 [==============================] - 57s 181ms/step - loss: 1.9954\n",
      "Epoch 12/50\n",
      "313/313 [==============================] - 57s 181ms/step - loss: 1.9650\n",
      "Epoch 13/50\n",
      "313/313 [==============================] - 57s 182ms/step - loss: 1.9387\n",
      "Epoch 14/50\n",
      "313/313 [==============================] - 57s 182ms/step - loss: 1.9160\n",
      "Epoch 15/50\n",
      "313/313 [==============================] - 57s 182ms/step - loss: 1.8961\n",
      "Epoch 16/50\n",
      "313/313 [==============================] - 57s 181ms/step - loss: 1.8764\n",
      "Epoch 17/50\n",
      "313/313 [==============================] - 57s 181ms/step - loss: 1.8596\n",
      "Epoch 18/50\n",
      "313/313 [==============================] - 57s 181ms/step - loss: 1.8442\n",
      "Epoch 19/50\n",
      "313/313 [==============================] - 57s 181ms/step - loss: 1.8280\n",
      "Epoch 20/50\n",
      "313/313 [==============================] - 61s 194ms/step - loss: 1.8163\n",
      "Epoch 21/50\n",
      "313/313 [==============================] - 57s 183ms/step - loss: 1.8057\n",
      "Epoch 22/50\n",
      "313/313 [==============================] - 57s 183ms/step - loss: 1.7939\n",
      "Epoch 23/50\n",
      "313/313 [==============================] - 58s 185ms/step - loss: 1.7845\n",
      "Epoch 24/50\n",
      "313/313 [==============================] - 59s 190ms/step - loss: 1.7762\n",
      "Epoch 25/50\n",
      "313/313 [==============================] - 57s 183ms/step - loss: 1.7661\n",
      "Epoch 26/50\n",
      "313/313 [==============================] - 57s 182ms/step - loss: 1.7562\n",
      "Epoch 27/50\n",
      "313/313 [==============================] - 57s 181ms/step - loss: 1.7487\n",
      "Epoch 28/50\n",
      "313/313 [==============================] - 56s 180ms/step - loss: 1.7408\n",
      "Epoch 29/50\n",
      "313/313 [==============================] - 56s 180ms/step - loss: 1.7306\n",
      "Epoch 30/50\n",
      "313/313 [==============================] - 57s 181ms/step - loss: 1.7242\n",
      "Epoch 31/50\n",
      "313/313 [==============================] - 57s 181ms/step - loss: 1.7154\n",
      "Epoch 32/50\n",
      "313/313 [==============================] - 57s 182ms/step - loss: 1.7077\n",
      "Epoch 33/50\n",
      "313/313 [==============================] - 57s 181ms/step - loss: 1.6994\n",
      "Epoch 34/50\n",
      "313/313 [==============================] - 57s 181ms/step - loss: 1.6932\n",
      "Epoch 35/50\n",
      "313/313 [==============================] - 57s 181ms/step - loss: 1.6866\n",
      "Epoch 36/50\n",
      "313/313 [==============================] - 57s 182ms/step - loss: 1.6800\n",
      "Epoch 37/50\n",
      "313/313 [==============================] - 57s 182ms/step - loss: 1.6730\n",
      "Epoch 38/50\n",
      "313/313 [==============================] - 58s 185ms/step - loss: 1.6665\n",
      "Epoch 39/50\n",
      "313/313 [==============================] - 57s 181ms/step - loss: 1.6603\n",
      "Epoch 40/50\n",
      "313/313 [==============================] - 57s 181ms/step - loss: 1.6559\n",
      "Epoch 41/50\n",
      "313/313 [==============================] - 57s 181ms/step - loss: 1.6493\n",
      "Epoch 42/50\n",
      "313/313 [==============================] - 57s 182ms/step - loss: 1.6443\n",
      "Epoch 43/50\n",
      "313/313 [==============================] - 57s 182ms/step - loss: 1.6394\n",
      "Epoch 44/50\n",
      "313/313 [==============================] - 56s 180ms/step - loss: 1.6343\n",
      "Epoch 45/50\n",
      "313/313 [==============================] - 57s 182ms/step - loss: 1.6300\n",
      "Epoch 46/50\n",
      "313/313 [==============================] - 57s 182ms/step - loss: 1.6250\n",
      "Epoch 47/50\n",
      "313/313 [==============================] - 58s 185ms/step - loss: 1.6207\n",
      "Epoch 48/50\n",
      "313/313 [==============================] - 57s 182ms/step - loss: 1.6162\n",
      "Epoch 49/50\n",
      "313/313 [==============================] - 56s 180ms/step - loss: 1.6125\n",
      "Epoch 50/50\n",
      "313/313 [==============================] - 56s 180ms/step - loss: 1.6089\n"
     ]
    }
   ],
   "source": [
    "model.compile(loss=\"sparse_categorical_crossentropy\", optimizer=\"adam\")\n",
    "history = model.fit(dataset, epochs=50,\n",
    "                    callbacks=[ResetStatesCallback()])"
   ]
  },
  {
   "cell_type": "markdown",
   "id": "8c87908f-e7e8-4338-9817-2204d60731a4",
   "metadata": {},
   "source": [
    "- バッチサイズを変える場合は同様の構造のステートレスモデルを作り、重みをコピーする"
   ]
  },
  {
   "cell_type": "code",
   "execution_count": 56,
   "id": "c2703662-6be2-4d60-8dd3-77b358dc419b",
   "metadata": {},
   "outputs": [],
   "source": [
    "stateless_model = keras.models.Sequential([\n",
    "    keras.layers.GRU(128, return_sequences=True, input_shape=[None, max_id]),\n",
    "    keras.layers.GRU(128, return_sequences=True),\n",
    "    keras.layers.TimeDistributed(keras.layers.Dense(max_id,\n",
    "                                                    activation=\"softmax\"))\n",
    "])"
   ]
  },
  {
   "cell_type": "code",
   "execution_count": 57,
   "id": "524ae58b-b03e-4b1a-848f-698d5a56250e",
   "metadata": {},
   "outputs": [],
   "source": [
    "stateless_model.build(tf.TensorShape([None, None, max_id]))"
   ]
  },
  {
   "cell_type": "code",
   "execution_count": 58,
   "id": "08f6ea2e-9f71-4a70-bbc2-8d7fc71b4f2c",
   "metadata": {},
   "outputs": [],
   "source": [
    "stateless_model.set_weights(model.get_weights())\n",
    "model = stateless_model"
   ]
  },
  {
   "cell_type": "code",
   "execution_count": 61,
   "id": "afd052f4-b579-4ff7-9146-a410181b94fe",
   "metadata": {},
   "outputs": [
    {
     "name": "stdout",
     "output_type": "stream",
     "text": [
      "tingcass us\n",
      "a glace starves a maberls day.\n",
      "why let \n"
     ]
    }
   ],
   "source": [
    "tf.random.set_seed(42)\n",
    "print(complete_text(\"t\"))"
   ]
  },
  {
   "cell_type": "markdown",
   "id": "c7a3a1a9-ac73-47e9-abf3-0cba02b27496",
   "metadata": {},
   "source": [
    "# 16.2 感情分析 "
   ]
  },
  {
   "cell_type": "code",
   "execution_count": 62,
   "id": "b4c4445d-39b3-4531-8406-73755ca87ac3",
   "metadata": {},
   "outputs": [],
   "source": [
    "tf.random.set_seed(42)"
   ]
  },
  {
   "cell_type": "code",
   "execution_count": 63,
   "id": "6c9d8ff9-6c4d-4eb4-9320-edfb28eee263",
   "metadata": {},
   "outputs": [
    {
     "name": "stdout",
     "output_type": "stream",
     "text": [
      "Downloading data from https://storage.googleapis.com/tensorflow/tf-keras-datasets/imdb.npz\n",
      "17465344/17464789 [==============================] - 2s 0us/step\n",
      "17473536/17464789 [==============================] - 2s 0us/step\n"
     ]
    }
   ],
   "source": [
    "(X_train, y_train), (X_test, y_test) = keras.datasets.imdb.load_data()"
   ]
  },
  {
   "cell_type": "code",
   "execution_count": 64,
   "id": "ab400a16-a50a-4741-9eaf-9a8a9a42231b",
   "metadata": {},
   "outputs": [
    {
     "name": "stdout",
     "output_type": "stream",
     "text": [
      "Downloading data from https://storage.googleapis.com/tensorflow/tf-keras-datasets/imdb_word_index.json\n",
      "1646592/1641221 [==============================] - 0s 0us/step\n",
      "1654784/1641221 [==============================] - 0s 0us/step\n"
     ]
    },
    {
     "data": {
      "text/plain": [
       "'<sos> this film was just brilliant casting location scenery story'"
      ]
     },
     "execution_count": 64,
     "metadata": {},
     "output_type": "execute_result"
    }
   ],
   "source": [
    "word_index = keras.datasets.imdb.get_word_index()\n",
    "id_to_word = {id_ + 3: word for word, id_ in word_index.items()}\n",
    "for id_, token in enumerate((\"<pad>\", \"<sos>\", \"<unk>\")):\n",
    "    id_to_word[id_] = token\n",
    "\" \".join([id_to_word[id_] for id_ in X_train[0][:10]])"
   ]
  },
  {
   "cell_type": "code",
   "execution_count": 65,
   "id": "9bacde91-92a5-4e48-8659-b7a45f084388",
   "metadata": {},
   "outputs": [
    {
     "name": "stderr",
     "output_type": "stream",
     "text": [
      "2022-01-26 21:08:32.475156: W tensorflow/core/platform/cloud/google_auth_provider.cc:184] All attempts to get a Google authentication bearer token failed, returning an empty token. Retrieving token from files failed with \"NOT_FOUND: Could not locate the credentials file.\". Retrieving token from GCE failed with \"FAILED_PRECONDITION: Error executing an HTTP request: libcurl code 6 meaning 'Couldn't resolve host name', error details: Could not resolve host: metadata\".\n"
     ]
    },
    {
     "name": "stdout",
     "output_type": "stream",
     "text": [
      "\u001b[1mDownloading and preparing dataset 80.23 MiB (download: 80.23 MiB, generated: Unknown size, total: 80.23 MiB) to /Users/mochidzukiyoshihiko/tensorflow_datasets/imdb_reviews/plain_text/1.0.0...\u001b[0m\n"
     ]
    },
    {
     "data": {
      "application/vnd.jupyter.widget-view+json": {
       "model_id": "ccf3b19bba7849458eaee4192dd1f7fc",
       "version_major": 2,
       "version_minor": 0
      },
      "text/plain": [
       "Dl Completed...: 0 url [00:00, ? url/s]"
      ]
     },
     "metadata": {},
     "output_type": "display_data"
    },
    {
     "data": {
      "application/vnd.jupyter.widget-view+json": {
       "model_id": "beb05a7bd65b4bbd8c19e3e2ef934afe",
       "version_major": 2,
       "version_minor": 0
      },
      "text/plain": [
       "Dl Size...: 0 MiB [00:00, ? MiB/s]"
      ]
     },
     "metadata": {},
     "output_type": "display_data"
    },
    {
     "data": {
      "application/vnd.jupyter.widget-view+json": {
       "model_id": "b7532d5227dc40c0af5785a1e17c12d0",
       "version_major": 2,
       "version_minor": 0
      },
      "text/plain": [
       "Generating splits...:   0%|          | 0/3 [00:00<?, ? splits/s]"
      ]
     },
     "metadata": {},
     "output_type": "display_data"
    },
    {
     "data": {
      "application/vnd.jupyter.widget-view+json": {
       "model_id": "931b9e2ba10b45ca8b0de551aad5a228",
       "version_major": 2,
       "version_minor": 0
      },
      "text/plain": [
       "Generating train examples...:   0%|          | 0/25000 [00:00<?, ? examples/s]"
      ]
     },
     "metadata": {},
     "output_type": "display_data"
    },
    {
     "data": {
      "application/vnd.jupyter.widget-view+json": {
       "model_id": "0f3e41e5bcd04178814b77a676e2fc0f",
       "version_major": 2,
       "version_minor": 0
      },
      "text/plain": [
       "Shuffling imdb_reviews-train.tfrecord...:   0%|          | 0/25000 [00:00<?, ? examples/s]"
      ]
     },
     "metadata": {},
     "output_type": "display_data"
    },
    {
     "data": {
      "application/vnd.jupyter.widget-view+json": {
       "model_id": "daca02afe4a3415484797240cea4eba0",
       "version_major": 2,
       "version_minor": 0
      },
      "text/plain": [
       "Generating test examples...:   0%|          | 0/25000 [00:00<?, ? examples/s]"
      ]
     },
     "metadata": {},
     "output_type": "display_data"
    },
    {
     "data": {
      "application/vnd.jupyter.widget-view+json": {
       "model_id": "71da33e9cb1f4d2b944b3cde418e7ceb",
       "version_major": 2,
       "version_minor": 0
      },
      "text/plain": [
       "Shuffling imdb_reviews-test.tfrecord...:   0%|          | 0/25000 [00:00<?, ? examples/s]"
      ]
     },
     "metadata": {},
     "output_type": "display_data"
    },
    {
     "data": {
      "application/vnd.jupyter.widget-view+json": {
       "model_id": "3efc3fbf87b449798b4cda315a052314",
       "version_major": 2,
       "version_minor": 0
      },
      "text/plain": [
       "Generating unsupervised examples...:   0%|          | 0/50000 [00:00<?, ? examples/s]"
      ]
     },
     "metadata": {},
     "output_type": "display_data"
    },
    {
     "data": {
      "application/vnd.jupyter.widget-view+json": {
       "model_id": "7c24381654134f959c33de21ce0ed2e4",
       "version_major": 2,
       "version_minor": 0
      },
      "text/plain": [
       "Shuffling imdb_reviews-unsupervised.tfrecord...:   0%|          | 0/50000 [00:00<?, ? examples/s]"
      ]
     },
     "metadata": {},
     "output_type": "display_data"
    },
    {
     "name": "stdout",
     "output_type": "stream",
     "text": [
      "\u001b[1mDataset imdb_reviews downloaded and prepared to /Users/mochidzukiyoshihiko/tensorflow_datasets/imdb_reviews/plain_text/1.0.0. Subsequent calls will reuse this data.\u001b[0m\n"
     ]
    }
   ],
   "source": [
    "import tensorflow_datasets as tfds\n",
    "datasets, info = tfds.load(\"imdb_reviews\", as_supervised=True, with_info=True)"
   ]
  },
  {
   "cell_type": "code",
   "execution_count": 66,
   "id": "274330b0-cd22-4cde-b877-d9432585fe14",
   "metadata": {},
   "outputs": [
    {
     "data": {
      "text/plain": [
       "dict_keys([Split('train'), Split('test'), Split('unsupervised')])"
      ]
     },
     "execution_count": 66,
     "metadata": {},
     "output_type": "execute_result"
    }
   ],
   "source": [
    "datasets.keys()"
   ]
  },
  {
   "cell_type": "code",
   "execution_count": 68,
   "id": "b4c08ffc-8dd7-4e50-825f-726c7b5fde0a",
   "metadata": {},
   "outputs": [],
   "source": [
    "train_size = info.splits[\"train\"].num_examples\n",
    "test_size = info.splits[\"test\"].num_examples"
   ]
  },
  {
   "cell_type": "code",
   "execution_count": 69,
   "id": "d94a1f68-67f4-4cf7-b7a6-78b8a3259737",
   "metadata": {},
   "outputs": [
    {
     "name": "stdout",
     "output_type": "stream",
     "text": [
      "Review: This was an absolutely terrible movie. Don't be lured in by Christopher Walken or Michael Ironside. Both are great actors, but this must simply be their worst role in history. Even their great acting  ...\n",
      "Label: 0 = Negative\n",
      "\n",
      "Review: I have been known to fall asleep during films, but this is usually due to a combination of things including, really tired, being warm and comfortable on the sette and having just eaten a lot. However  ...\n",
      "Label: 0 = Negative\n",
      "\n"
     ]
    },
    {
     "name": "stderr",
     "output_type": "stream",
     "text": [
      "2022-01-26 21:10:21.153887: W tensorflow/core/kernels/data/cache_dataset_ops.cc:768] The calling iterator did not fully read the dataset being cached. In order to avoid unexpected truncation of the dataset, the partially cached contents of the dataset  will be discarded. This can happen if you have an input pipeline similar to `dataset.cache().take(k).repeat()`. You should use `dataset.take(k).cache().repeat()` instead.\n"
     ]
    }
   ],
   "source": [
    "for X_batch, y_batch in datasets[\"train\"].batch(2).take(1):\n",
    "    for review, label in zip(X_batch.numpy(), y_batch.numpy()):\n",
    "        print(\"Review:\", review.decode(\"utf-8\")[:200], \"...\")\n",
    "        print(\"Label:\", label, \"= Positive\" if label else \"= Negative\")\n",
    "        print()"
   ]
  },
  {
   "cell_type": "markdown",
   "id": "e614c38b-9110-460e-92bc-f9afbfb79d67",
   "metadata": {},
   "source": [
    "- 前処理関数"
   ]
  },
  {
   "cell_type": "code",
   "execution_count": 70,
   "id": "58955191-33af-44cc-a28e-3fe993c18373",
   "metadata": {},
   "outputs": [],
   "source": [
    "def preprocess(X_batch, y_batch):\n",
    "    X_batch = tf.strings.substr(X_batch, 0, 300)\n",
    "    X_batch = tf.strings.regex_replace(X_batch, rb\"<br\\s*/?>\", b\" \")\n",
    "    X_batch = tf.strings.regex_replace(X_batch, b\"[^a-zA-Z']\", b\" \")\n",
    "    X_batch = tf.strings.split(X_batch)\n",
    "    return X_batch.to_tensor(default_value=b\"<pad>\"), y_batch"
   ]
  },
  {
   "cell_type": "code",
   "execution_count": 76,
   "id": "7d7346bd-f70f-4bb8-8184-53ded2cc25a3",
   "metadata": {},
   "outputs": [
    {
     "data": {
      "text/plain": [
       "(<tf.Tensor: shape=(2, 53), dtype=string, numpy=\n",
       " array([[b'This', b'was', b'an', b'absolutely', b'terrible', b'movie',\n",
       "         b\"Don't\", b'be', b'lured', b'in', b'by', b'Christopher',\n",
       "         b'Walken', b'or', b'Michael', b'Ironside', b'Both', b'are',\n",
       "         b'great', b'actors', b'but', b'this', b'must', b'simply', b'be',\n",
       "         b'their', b'worst', b'role', b'in', b'history', b'Even',\n",
       "         b'their', b'great', b'acting', b'could', b'not', b'redeem',\n",
       "         b'this', b\"movie's\", b'ridiculous', b'storyline', b'This',\n",
       "         b'movie', b'is', b'an', b'early', b'nineties', b'US',\n",
       "         b'propaganda', b'pi', b'<pad>', b'<pad>', b'<pad>'],\n",
       "        [b'I', b'have', b'been', b'known', b'to', b'fall', b'asleep',\n",
       "         b'during', b'films', b'but', b'this', b'is', b'usually', b'due',\n",
       "         b'to', b'a', b'combination', b'of', b'things', b'including',\n",
       "         b'really', b'tired', b'being', b'warm', b'and', b'comfortable',\n",
       "         b'on', b'the', b'sette', b'and', b'having', b'just', b'eaten',\n",
       "         b'a', b'lot', b'However', b'on', b'this', b'occasion', b'I',\n",
       "         b'fell', b'asleep', b'because', b'the', b'film', b'was',\n",
       "         b'rubbish', b'The', b'plot', b'development', b'was', b'constant',\n",
       "         b'Cons']], dtype=object)>,\n",
       " <tf.Tensor: shape=(2,), dtype=int64, numpy=array([0, 0])>)"
      ]
     },
     "execution_count": 76,
     "metadata": {},
     "output_type": "execute_result"
    }
   ],
   "source": [
    "preprocess(X_batch, y_batch)"
   ]
  },
  {
   "cell_type": "code",
   "execution_count": 77,
   "id": "09525765-6046-42b5-8c0a-35aca0b5a814",
   "metadata": {},
   "outputs": [],
   "source": [
    "from collections import Counter\n",
    "\n",
    "vocabulary = Counter()\n",
    "for X_batch, y_batch in datasets[\"train\"].batch(32).map(preprocess):\n",
    "    for review in X_batch:\n",
    "        vocabulary.update(list(review.numpy()))"
   ]
  },
  {
   "cell_type": "code",
   "execution_count": 82,
   "id": "1c3da88e-bccc-457f-bcf5-93cad0c5484d",
   "metadata": {},
   "outputs": [
    {
     "data": {
      "text/plain": [
       "[(b'<pad>', 214309), (b'the', 61137), (b'a', 38564)]"
      ]
     },
     "execution_count": 82,
     "metadata": {},
     "output_type": "execute_result"
    }
   ],
   "source": [
    "vocabulary.most_common()[:3]"
   ]
  },
  {
   "cell_type": "markdown",
   "id": "e72ec14e-ee4b-407f-b4f0-95a81707425a",
   "metadata": {},
   "source": [
    "- 最頻出な10,000語だけ使用する"
   ]
  },
  {
   "cell_type": "code",
   "execution_count": 83,
   "id": "9f17c6a2-5166-4d99-a6fc-713633aeb2da",
   "metadata": {},
   "outputs": [],
   "source": [
    "vocab_size = 10000\n",
    "truncated_vocabulary = [\n",
    "    word for word, count in vocabulary.most_common()[:vocab_size]]"
   ]
  },
  {
   "cell_type": "markdown",
   "id": "339fe2b9-d3ef-45dd-ab59-932e6439db0b",
   "metadata": {},
   "source": [
    "- ルックアップテーブルを作る"
   ]
  },
  {
   "cell_type": "code",
   "execution_count": 84,
   "id": "02f2af33-18e0-42fc-adb3-3bf7b6c29859",
   "metadata": {},
   "outputs": [],
   "source": [
    "words = tf.constant(truncated_vocabulary)\n",
    "word_ids = tf.range(len(truncated_vocabulary), dtype=tf.int64)\n",
    "vocab_init = tf.lookup.KeyValueTensorInitializer(words, word_ids)\n",
    "num_oov_buckets = 1000\n",
    "table = tf.lookup.StaticVocabularyTable(vocab_init, num_oov_buckets)"
   ]
  },
  {
   "cell_type": "code",
   "execution_count": 85,
   "id": "4dd82a3e-7e29-4f5f-9c16-782e9a62710c",
   "metadata": {},
   "outputs": [
    {
     "data": {
      "text/plain": [
       "<tf.Tensor: shape=(1, 4), dtype=int64, numpy=array([[   22,    12,    11, 10053]])>"
      ]
     },
     "execution_count": 85,
     "metadata": {},
     "output_type": "execute_result"
    }
   ],
   "source": [
    "table.lookup(tf.constant([b\"This movie was faaaaaantastic\".split()]))"
   ]
  },
  {
   "cell_type": "code",
   "execution_count": 87,
   "id": "897251c9-ebd4-4b26-9afe-dda128fc7b22",
   "metadata": {},
   "outputs": [],
   "source": [
    "def encode_words(X_batch, y_batch):\n",
    "    return table.lookup(X_batch), y_batch"
   ]
  },
  {
   "cell_type": "code",
   "execution_count": 88,
   "id": "d8bdd768-417d-42ca-9d39-e06d38df84e8",
   "metadata": {},
   "outputs": [],
   "source": [
    "train_set = datasets[\"train\"].batch(32).map(preprocess)\n",
    "train_set = train_set.map(encode_words).prefetch(1)"
   ]
  },
  {
   "cell_type": "code",
   "execution_count": 89,
   "id": "2a8918ae-6401-4175-86d0-332e2170bf76",
   "metadata": {},
   "outputs": [
    {
     "name": "stdout",
     "output_type": "stream",
     "text": [
      "tf.Tensor(\n",
      "[[  22   11   28 ...    0    0    0]\n",
      " [   6   21   70 ...    0    0    0]\n",
      " [4099 6881    1 ...    0    0    0]\n",
      " ...\n",
      " [  22   12  118 ...  331 1047    0]\n",
      " [1757 4101  451 ...    0    0    0]\n",
      " [3365 4392    6 ...    0    0    0]], shape=(32, 60), dtype=int64)\n",
      "tf.Tensor([0 0 0 1 1 1 0 0 0 0 0 1 1 0 1 0 1 1 1 0 1 1 1 1 1 0 0 0 1 0 0 0], shape=(32,), dtype=int64)\n"
     ]
    }
   ],
   "source": [
    "for X_batch, y_batch in train_set.take(1):\n",
    "    print(X_batch)\n",
    "    print(y_batch)"
   ]
  },
  {
   "cell_type": "markdown",
   "id": "391e578b-7df7-4920-926d-704954f5889a",
   "metadata": {},
   "source": [
    "- モデル作成"
   ]
  },
  {
   "cell_type": "code",
   "execution_count": 90,
   "id": "3271d3c5-5318-4694-a0d3-88b8ead503cb",
   "metadata": {},
   "outputs": [
    {
     "name": "stdout",
     "output_type": "stream",
     "text": [
      "Epoch 1/5\n",
      "782/782 [==============================] - 59s 73ms/step - loss: 0.5305 - accuracy: 0.7281\n",
      "Epoch 2/5\n",
      "782/782 [==============================] - 55s 70ms/step - loss: 0.3459 - accuracy: 0.8549\n",
      "Epoch 3/5\n",
      "782/782 [==============================] - 55s 70ms/step - loss: 0.1934 - accuracy: 0.9314\n",
      "Epoch 4/5\n",
      "782/782 [==============================] - 54s 70ms/step - loss: 0.1360 - accuracy: 0.9503\n",
      "Epoch 5/5\n",
      "782/782 [==============================] - 57s 73ms/step - loss: 0.1032 - accuracy: 0.9634\n"
     ]
    }
   ],
   "source": [
    "embed_size = 128\n",
    "model = keras.models.Sequential([\n",
    "    keras.layers.Embedding(vocab_size + num_oov_buckets, embed_size,\n",
    "                           mask_zero=True, # not shown in the book\n",
    "                           input_shape=[None]),\n",
    "    keras.layers.GRU(128, return_sequences=True),\n",
    "    keras.layers.GRU(128),\n",
    "    keras.layers.Dense(1, activation=\"sigmoid\")\n",
    "])\n",
    "model.compile(loss=\"binary_crossentropy\", optimizer=\"adam\", metrics=[\"accuracy\"])\n",
    "history = model.fit(train_set, epochs=5)"
   ]
  },
  {
   "cell_type": "markdown",
   "id": "e0157e54-3d86-4298-bf0c-c0e8fa98b2a0",
   "metadata": {},
   "source": [
    "### 16.2.1 マスキング"
   ]
  },
  {
   "cell_type": "code",
   "execution_count": 91,
   "id": "4d21ce21-ffc6-41c8-baf6-3ceaecec3cd3",
   "metadata": {},
   "outputs": [
    {
     "name": "stdout",
     "output_type": "stream",
     "text": [
      "Epoch 1/5\n",
      "782/782 [==============================] - 56s 68ms/step - loss: 0.5425 - accuracy: 0.7156\n",
      "Epoch 2/5\n",
      "782/782 [==============================] - 54s 70ms/step - loss: 0.3488 - accuracy: 0.8555\n",
      "Epoch 3/5\n",
      "782/782 [==============================] - 56s 71ms/step - loss: 0.1768 - accuracy: 0.9369\n",
      "Epoch 4/5\n",
      "782/782 [==============================] - 56s 71ms/step - loss: 0.1347 - accuracy: 0.9517\n",
      "Epoch 5/5\n",
      "782/782 [==============================] - 56s 72ms/step - loss: 0.1134 - accuracy: 0.9571\n"
     ]
    }
   ],
   "source": [
    "# 関数型API & マニュアルでマスキング\n",
    "K = keras.backend\n",
    "embed_size = 128\n",
    "inputs = keras.layers.Input(shape=[None])\n",
    "mask = keras.layers.Lambda(lambda inputs: K.not_equal(inputs, 0))(inputs)\n",
    "z = keras.layers.Embedding(vocab_size + num_oov_buckets, embed_size)(inputs)\n",
    "z = keras.layers.GRU(128, return_sequences=True)(z, mask=mask)\n",
    "z = keras.layers.GRU(128)(z, mask=mask)\n",
    "outputs = keras.layers.Dense(1, activation=\"sigmoid\")(z)\n",
    "model = keras.models.Model(inputs=[inputs], outputs=[outputs])\n",
    "model.compile(loss=\"binary_crossentropy\", optimizer=\"adam\", metrics=[\"accuracy\"])\n",
    "history = model.fit(train_set, epochs=5)"
   ]
  },
  {
   "cell_type": "markdown",
   "id": "127cbb65-be3c-4d4f-9458-a2136f47d184",
   "metadata": {},
   "source": [
    "### 16.2.2 事前学習済みの埋め込みの再利用"
   ]
  },
  {
   "cell_type": "code",
   "execution_count": 95,
   "id": "88327fa6-ff7f-41a5-8e6c-c0bd2592055c",
   "metadata": {},
   "outputs": [],
   "source": [
    "tf.random.set_seed(42)"
   ]
  },
  {
   "cell_type": "code",
   "execution_count": 100,
   "id": "b3724ba2-8107-4cfa-9001-657fb5ef5f58",
   "metadata": {},
   "outputs": [],
   "source": [
    "# キャッシュを永続化\n",
    "TFHUB_CACHE_DIR = os.path.join(os.curdir, \"my_tfhub_cache\")\n",
    "os.environ[\"TFHUB_CACHE_DIR\"] = TFHUB_CACHE_DIR"
   ]
  },
  {
   "cell_type": "code",
   "execution_count": 97,
   "id": "6729d540-199d-43fc-ae80-9775c030c858",
   "metadata": {},
   "outputs": [],
   "source": [
    "import tensorflow_hub as hub\n",
    "\n",
    "model = keras.Sequential([\n",
    "    hub.KerasLayer(\"https://tfhub.dev/google/tf2-preview/nnlm-en-dim50/1\",\n",
    "                   dtype=tf.string, input_shape=[], output_shape=[50]),\n",
    "    keras.layers.Dense(128, activation=\"relu\"),\n",
    "    keras.layers.Dense(1, activation=\"sigmoid\")\n",
    "])\n",
    "model.compile(loss=\"binary_crossentropy\", optimizer=\"adam\",\n",
    "              metrics=[\"accuracy\"])"
   ]
  },
  {
   "cell_type": "code",
   "execution_count": 98,
   "id": "0b21cf8b-143d-4a56-8354-af037ff55dea",
   "metadata": {},
   "outputs": [
    {
     "name": "stdout",
     "output_type": "stream",
     "text": [
      "./my_tfhub_cache/82c4aaf4250ffb09088bd48368ee7fd00e5464fe.descriptor.txt\n",
      "./my_tfhub_cache/82c4aaf4250ffb09088bd48368ee7fd00e5464fe/saved_model.pb\n",
      "./my_tfhub_cache/82c4aaf4250ffb09088bd48368ee7fd00e5464fe/variables/variables.data-00000-of-00001\n",
      "./my_tfhub_cache/82c4aaf4250ffb09088bd48368ee7fd00e5464fe/variables/variables.index\n",
      "./my_tfhub_cache/82c4aaf4250ffb09088bd48368ee7fd00e5464fe/assets/tokens.txt\n"
     ]
    }
   ],
   "source": [
    "for dirpath, dirnames, filenames in os.walk(TFHUB_CACHE_DIR):\n",
    "    for filename in filenames:\n",
    "        print(os.path.join(dirpath, filename))"
   ]
  },
  {
   "cell_type": "code",
   "execution_count": 99,
   "id": "b98447ba-a3e9-4efa-8b42-509576a5948f",
   "metadata": {},
   "outputs": [
    {
     "name": "stdout",
     "output_type": "stream",
     "text": [
      "Epoch 1/5\n",
      "782/782 [==============================] - 1s 1ms/step - loss: 0.5461 - accuracy: 0.7267\n",
      "Epoch 2/5\n",
      "782/782 [==============================] - 1s 1ms/step - loss: 0.5130 - accuracy: 0.7495\n",
      "Epoch 3/5\n",
      "782/782 [==============================] - 1s 1ms/step - loss: 0.5081 - accuracy: 0.7532\n",
      "Epoch 4/5\n",
      "782/782 [==============================] - 1s 1ms/step - loss: 0.5047 - accuracy: 0.7540\n",
      "Epoch 5/5\n",
      "782/782 [==============================] - 1s 1ms/step - loss: 0.5018 - accuracy: 0.7566\n"
     ]
    }
   ],
   "source": [
    "import tensorflow_datasets as tfds\n",
    "\n",
    "datasets, info = tfds.load(\"imdb_reviews\", as_supervised=True, with_info=True)\n",
    "train_size = info.splits[\"train\"].num_examples\n",
    "batch_size = 32\n",
    "train_set = datasets[\"train\"].batch(batch_size).prefetch(1)\n",
    "history = model.fit(train_set, epochs=5)"
   ]
  },
  {
   "cell_type": "markdown",
   "id": "6310a353-b079-441b-9b5b-c04cb9fdc49b",
   "metadata": {},
   "source": [
    "# 16.3 ニューラル機械翻訳のためのエンコーダーデコーダ・ネットワーク"
   ]
  },
  {
   "cell_type": "code",
   "execution_count": 101,
   "id": "dd70ee7c-fcd4-4d2b-9ae7-98158e57fe47",
   "metadata": {},
   "outputs": [],
   "source": [
    "tf.random.set_seed(42)"
   ]
  },
  {
   "cell_type": "code",
   "execution_count": 102,
   "id": "b7f5617d-e9e4-424d-b87a-e4e532d6fa9b",
   "metadata": {},
   "outputs": [],
   "source": [
    "vocab_size = 100\n",
    "embed_size = 10"
   ]
  },
  {
   "cell_type": "markdown",
   "id": "833b55f7-c8fc-4259-8be3-f5eff5571956",
   "metadata": {},
   "source": [
    "- 3.8でtensorflow_addonsを入れられない模様。。"
   ]
  },
  {
   "cell_type": "code",
   "execution_count": 105,
   "id": "cd2115d8-c254-459c-8feb-b551be53dcfe",
   "metadata": {},
   "outputs": [],
   "source": [
    "# import tensorflow_addons as tfa\n",
    "\n",
    "# encoder_inputs = keras.layers.Input(shape=[None], dtype=np.int32)\n",
    "# decoder_inputs = keras.layers.Input(shape=[None], dtype=np.int32)\n",
    "# sequence_lengths = keras.layers.Input(shape=[], dtype=np.int32)\n",
    "\n",
    "# embeddings = keras.layers.Embedding(vocab_size, embed_size)\n",
    "# encoder_embeddings = embeddings(encoder_inputs)\n",
    "# decoder_embeddings = embeddings(decoder_inputs)\n",
    "\n",
    "# encoder = keras.layers.LSTM(512, return_state=True)\n",
    "# encoder_outputs, state_h, state_c = encoder(encoder_embeddings)\n",
    "# encoder_state = [state_h, state_c]\n",
    "\n",
    "# sampler = tfa.seq2seq.sampler.TrainingSampler()\n",
    "\n",
    "# decoder_cell = keras.layers.LSTMCell(512)\n",
    "# output_layer = keras.layers.Dense(vocab_size)\n",
    "# decoder = tfa.seq2seq.basic_decoder.BasicDecoder(decoder_cell, sampler,\n",
    "#                                                  output_layer=output_layer)\n",
    "# final_outputs, final_state, final_sequence_lengths = decoder(\n",
    "#     decoder_embeddings, initial_state=encoder_state,\n",
    "#     sequence_length=sequence_lengths)\n",
    "# Y_proba = tf.nn.softmax(final_outputs.rnn_output)\n",
    "\n",
    "# model = keras.models.Model(\n",
    "#     inputs=[encoder_inputs, decoder_inputs, sequence_lengths],\n",
    "#     outputs=[Y_proba])"
   ]
  },
  {
   "cell_type": "code",
   "execution_count": 106,
   "id": "d1f2cb85-a1c1-49c4-9bd3-e724681bb460",
   "metadata": {},
   "outputs": [],
   "source": [
    "# model.compile(loss=\"sparse_categorical_crossentropy\", optimizer=\"adam\")"
   ]
  },
  {
   "cell_type": "code",
   "execution_count": 119,
   "id": "e2ac4802-976a-4d36-a522-b1b09c75ef51",
   "metadata": {},
   "outputs": [],
   "source": [
    "# X = np.random.randint(100, size=10*1000).reshape(1000, 10)\n",
    "# Y = np.random.randint(100, size=15*1000).reshape(1000, 15)\n",
    "# X_decoder = np.c_[np.zeros((1000, 1)), Y[:, :-1]]\n",
    "# seq_lengths = np.full([1000], 15)"
   ]
  },
  {
   "cell_type": "code",
   "execution_count": null,
   "id": "88d4b588-6a88-47f4-948e-af6fdb38dcb8",
   "metadata": {},
   "outputs": [],
   "source": [
    "# history = model.fit([X, X_decoder, seq_lengths], Y, epochs=2)"
   ]
  },
  {
   "cell_type": "markdown",
   "id": "29456975-1036-4993-8aec-fe81cdba6b75",
   "metadata": {},
   "source": [
    "### 16.3.1 双方向RNN"
   ]
  },
  {
   "cell_type": "code",
   "execution_count": 120,
   "id": "b51105e5-adef-42ae-baaa-f55985a0e0d4",
   "metadata": {},
   "outputs": [
    {
     "name": "stdout",
     "output_type": "stream",
     "text": [
      "Model: \"sequential_6\"\n",
      "_________________________________________________________________\n",
      " Layer (type)                Output Shape              Param #   \n",
      "=================================================================\n",
      " gru_12 (GRU)                (None, None, 10)          660       \n",
      "                                                                 \n",
      " bidirectional (Bidirectiona  (None, None, 20)         1320      \n",
      " l)                                                              \n",
      "                                                                 \n",
      "=================================================================\n",
      "Total params: 1,980\n",
      "Trainable params: 1,980\n",
      "Non-trainable params: 0\n",
      "_________________________________________________________________\n"
     ]
    }
   ],
   "source": [
    "model = keras.models.Sequential([\n",
    "    keras.layers.GRU(10, return_sequences=True, input_shape=[None, 10]),\n",
    "    keras.layers.Bidirectional(keras.layers.GRU(10, return_sequences=True))\n",
    "])\n",
    "\n",
    "model.summary()"
   ]
  },
  {
   "cell_type": "markdown",
   "id": "b051b678-3833-4e22-824e-185e53a6c375",
   "metadata": {},
   "source": [
    "### 16.3.2 ビームサーチ"
   ]
  },
  {
   "cell_type": "markdown",
   "id": "abe7af4a-3600-4bb6-bb98-16cfe42fe0c2",
   "metadata": {},
   "source": [
    "# 16.4 注意機構"
   ]
  },
  {
   "cell_type": "markdown",
   "id": "4f0d0987-112a-4e17-9ead-8ec41b277c80",
   "metadata": {},
   "source": [
    "### 16.4.1 ビジュアル注意"
   ]
  },
  {
   "cell_type": "markdown",
   "id": "12cd511e-9acb-45f0-90cd-d87c747a3bb6",
   "metadata": {},
   "source": [
    "### 16.4.2 必要なものは注意だけ：Transformerアーキテクチャ"
   ]
  },
  {
   "cell_type": "markdown",
   "id": "45a3082d-0aa2-4e5d-9e2a-96a86dc54704",
   "metadata": {},
   "source": [
    "- 位置埋め込み"
   ]
  },
  {
   "cell_type": "code",
   "execution_count": 4,
   "id": "bbea4c4a-ca29-4ea9-aa0b-9396c7b5bd48",
   "metadata": {},
   "outputs": [],
   "source": [
    "class PositionalEncoding(keras.layers.Layer):\n",
    "    def __init__(self, max_steps, max_dims, dtype=tf.float32, **kwargs):\n",
    "        super().__init__(dtype=dtype, **kwargs)\n",
    "        if max_dims % 2 == 1: max_dims += 1 # max_dims must be even\n",
    "        p, i = np.meshgrid(np.arange(max_steps), np.arange(max_dims // 2))\n",
    "        pos_emb = np.empty((1, max_steps, max_dims))\n",
    "        pos_emb[0, :, ::2] = np.sin(p / 10000**(2 * i / max_dims)).T\n",
    "        pos_emb[0, :, 1::2] = np.cos(p / 10000**(2 * i / max_dims)).T\n",
    "        self.positional_embedding = tf.constant(pos_emb.astype(self.dtype))\n",
    "    def call(self, inputs):\n",
    "        shape = tf.shape(inputs)\n",
    "        return inputs + self.positional_embedding[:, :shape[-2], :shape[-1]]"
   ]
  },
  {
   "cell_type": "code",
   "execution_count": 5,
   "id": "5c0b3cc2-ca21-4e04-a392-94c6acb9e0e6",
   "metadata": {},
   "outputs": [],
   "source": [
    "max_steps = 201\n",
    "max_dims = 512\n",
    "pos_emb = PositionalEncoding(max_steps, max_dims)\n",
    "PE = pos_emb(np.zeros((1, max_steps, max_dims), np.float32))[0].numpy()"
   ]
  },
  {
   "cell_type": "markdown",
   "id": "5e458792-99da-4e60-a999-e78994920157",
   "metadata": {},
   "source": [
    "- 位置埋め込み行列"
   ]
  },
  {
   "cell_type": "code",
   "execution_count": 6,
   "id": "21f29b40-6c57-47e0-bbb1-184d682f7fc1",
   "metadata": {},
   "outputs": [
    {
     "name": "stdout",
     "output_type": "stream",
     "text": [
      "Saving figure positional_embedding_plot\n"
     ]
    },
    {
     "data": {
      "image/png": "[encoded data removed]",
      "text/plain": [
       "<Figure size 648x360 with 2 Axes>"
      ]
     },
     "metadata": {
      "needs_background": "light"
     },
     "output_type": "display_data"
    }
   ],
   "source": [
    "i1, i2, crop_i = 100, 101, 150\n",
    "p1, p2, p3 = 22, 60, 35\n",
    "fig, (ax1, ax2) = plt.subplots(nrows=2, ncols=1, sharex=True, figsize=(9, 5))\n",
    "ax1.plot([p1, p1], [-1, 1], \"k--\", label=\"$p = {}$\".format(p1))\n",
    "ax1.plot([p2, p2], [-1, 1], \"k--\", label=\"$p = {}$\".format(p2), alpha=0.5)\n",
    "ax1.plot(p3, PE[p3, i1], \"bx\", label=\"$p = {}$\".format(p3))\n",
    "ax1.plot(PE[:,i1], \"b-\", label=\"$i = {}$\".format(i1))\n",
    "ax1.plot(PE[:,i2], \"r-\", label=\"$i = {}$\".format(i2))\n",
    "ax1.plot([p1, p2], [PE[p1, i1], PE[p2, i1]], \"bo\")\n",
    "ax1.plot([p1, p2], [PE[p1, i2], PE[p2, i2]], \"ro\")\n",
    "ax1.legend(loc=\"center right\", fontsize=14, framealpha=0.95)\n",
    "ax1.set_ylabel(\"$P_{(p,i)}$\", rotation=0, fontsize=16)\n",
    "ax1.grid(True, alpha=0.3)\n",
    "ax1.hlines(0, 0, max_steps - 1, color=\"k\", linewidth=1, alpha=0.3)\n",
    "ax1.axis([0, max_steps - 1, -1, 1])\n",
    "ax2.imshow(PE.T[:crop_i], cmap=\"gray\", interpolation=\"bilinear\", aspect=\"auto\")\n",
    "ax2.hlines(i1, 0, max_steps - 1, color=\"b\")\n",
    "cheat = 2 # need to raise the red line a bit, or else it hides the blue one\n",
    "ax2.hlines(i2+cheat, 0, max_steps - 1, color=\"r\")\n",
    "ax2.plot([p1, p1], [0, crop_i], \"k--\")\n",
    "ax2.plot([p2, p2], [0, crop_i], \"k--\", alpha=0.5)\n",
    "ax2.plot([p1, p2], [i2+cheat, i2+cheat], \"ro\")\n",
    "ax2.plot([p1, p2], [i1, i1], \"bo\")\n",
    "ax2.axis([0, max_steps - 1, 0, crop_i])\n",
    "ax2.set_xlabel(\"$p$\", fontsize=16)\n",
    "ax2.set_ylabel(\"$i$\", rotation=0, fontsize=16)\n",
    "save_fig(\"positional_embedding_plot\")\n",
    "plt.show()"
   ]
  },
  {
   "cell_type": "code",
   "execution_count": 7,
   "id": "772c98fe-34cd-47b8-9e1b-8e325d0d5a29",
   "metadata": {},
   "outputs": [],
   "source": [
    "embed_size = 512; max_steps = 500; vocab_size = 10000\n",
    "encoder_inputs = keras.layers.Input(shape=[None], dtype=np.int32)\n",
    "decoder_inputs = keras.layers.Input(shape=[None], dtype=np.int32)\n",
    "embeddings = keras.layers.Embedding(vocab_size, embed_size)\n",
    "encoder_embeddings = embeddings(encoder_inputs)\n",
    "decoder_embeddings = embeddings(decoder_inputs)\n",
    "positional_encoding = PositionalEncoding(max_steps, max_dims=embed_size)\n",
    "encoder_in = positional_encoding(encoder_embeddings)\n",
    "decoder_in = positional_encoding(decoder_embeddings)"
   ]
  },
  {
   "cell_type": "markdown",
   "id": "907dc803-dabe-44bd-b1ed-0d9a9a41f626",
   "metadata": {},
   "source": [
    "- （単純化した）Transformerの実装"
   ]
  },
  {
   "cell_type": "code",
   "execution_count": 8,
   "id": "872a666a-7e7e-461f-a5ff-5b31d90cbe65",
   "metadata": {},
   "outputs": [],
   "source": [
    "Z = encoder_in\n",
    "for N in range(6):\n",
    "    Z = keras.layers.Attention(use_scale=True)([Z, Z])\n",
    "\n",
    "encoder_outputs = Z\n",
    "Z = decoder_in\n",
    "for N in range(6):\n",
    "    Z = keras.layers.Attention(use_scale=True, causal=True)([Z, Z])\n",
    "    Z = keras.layers.Attention(use_scale=True)([Z, encoder_outputs])\n",
    "\n",
    "outputs = keras.layers.TimeDistributed(\n",
    "    keras.layers.Dense(vocab_size, activation=\"softmax\"))(Z)"
   ]
  },
  {
   "cell_type": "code",
   "execution_count": 9,
   "id": "c43b20f1-f507-46df-9a66-777d32505656",
   "metadata": {},
   "outputs": [],
   "source": [
    "K = keras.backend\n",
    "\n",
    "class MultiHeadAttention(keras.layers.Layer):\n",
    "    def __init__(self, n_heads, causal=False, use_scale=False, **kwargs):\n",
    "        self.n_heads = n_heads\n",
    "        self.causal = causal\n",
    "        self.use_scale = use_scale\n",
    "        super().__init__(**kwargs)\n",
    "    def build(self, batch_input_shape):\n",
    "        self.dims = batch_input_shape[0][-1]\n",
    "        self.q_dims, self.v_dims, self.k_dims = [self.dims // self.n_heads] * 3 # could be hyperparameters instead\n",
    "        self.q_linear = keras.layers.Conv1D(self.n_heads * self.q_dims, kernel_size=1, use_bias=False)\n",
    "        self.v_linear = keras.layers.Conv1D(self.n_heads * self.v_dims, kernel_size=1, use_bias=False)\n",
    "        self.k_linear = keras.layers.Conv1D(self.n_heads * self.k_dims, kernel_size=1, use_bias=False)\n",
    "        self.attention = keras.layers.Attention(causal=self.causal, use_scale=self.use_scale)\n",
    "        self.out_linear = keras.layers.Conv1D(self.dims, kernel_size=1, use_bias=False)\n",
    "        super().build(batch_input_shape)\n",
    "    def _multi_head_linear(self, inputs, linear):\n",
    "        shape = K.concatenate([K.shape(inputs)[:-1], [self.n_heads, -1]])\n",
    "        projected = K.reshape(linear(inputs), shape)\n",
    "        perm = K.permute_dimensions(projected, [0, 2, 1, 3])\n",
    "        return K.reshape(perm, [shape[0] * self.n_heads, shape[1], -1])\n",
    "    def call(self, inputs):\n",
    "        q = inputs[0]\n",
    "        v = inputs[1]\n",
    "        k = inputs[2] if len(inputs) > 2 else v\n",
    "        shape = K.shape(q)\n",
    "        q_proj = self._multi_head_linear(q, self.q_linear)\n",
    "        v_proj = self._multi_head_linear(v, self.v_linear)\n",
    "        k_proj = self._multi_head_linear(k, self.k_linear)\n",
    "        multi_attended = self.attention([q_proj, v_proj, k_proj])\n",
    "        shape_attended = K.shape(multi_attended)\n",
    "        reshaped_attended = K.reshape(multi_attended, [shape[0], self.n_heads, shape_attended[1], shape_attended[2]])\n",
    "        perm = K.permute_dimensions(reshaped_attended, [0, 2, 1, 3])\n",
    "        concat = K.reshape(perm, [shape[0], shape_attended[1], -1])\n",
    "        return self.out_linear(concat)"
   ]
  },
  {
   "cell_type": "code",
   "execution_count": 10,
   "id": "446e3748-d08b-4914-b5e3-8db79b0472ca",
   "metadata": {},
   "outputs": [
    {
     "data": {
      "text/plain": [
       "TensorShape([2, 50, 512])"
      ]
     },
     "execution_count": 10,
     "metadata": {},
     "output_type": "execute_result"
    }
   ],
   "source": [
    "Q = np.random.rand(2, 50, 512)\n",
    "V = np.random.rand(2, 80, 512)\n",
    "multi_attn = MultiHeadAttention(8)\n",
    "multi_attn([Q, V]).shape"
   ]
  },
  {
   "cell_type": "markdown",
   "id": "b211b22d-3597-4b0f-a85e-0ae35a8c1bfd",
   "metadata": {},
   "source": [
    "# 16.5 言語モデルにおける最近のイノベーション"
   ]
  },
  {
   "cell_type": "markdown",
   "id": "12ed6419-f20f-46eb-8f1f-496ede43c13d",
   "metadata": {},
   "source": [
    "# 16.6 演習問題"
   ]
  },
  {
   "cell_type": "markdown",
   "id": "8a71e3de-2815-4c49-8df2-c3e164b3e578",
   "metadata": {},
   "source": [
    "### 16.6.8"
   ]
  },
  {
   "cell_type": "code",
   "execution_count": 14,
   "id": "4f8db062-d723-41a7-999d-1f29e91d13c0",
   "metadata": {},
   "outputs": [],
   "source": [
    "default_reber_grammar = [\n",
    "    [(\"B\", 1)],           # (state 0) =B=>(state 1)\n",
    "    [(\"T\", 2), (\"P\", 3)], # (state 1) =T=>(state 2) or =P=>(state 3)\n",
    "    [(\"S\", 2), (\"X\", 4)], # (state 2) =S=>(state 2) or =X=>(state 4)\n",
    "    [(\"T\", 3), (\"V\", 5)], # and so on...\n",
    "    [(\"X\", 3), (\"S\", 6)],\n",
    "    [(\"P\", 4), (\"V\", 6)],\n",
    "    [(\"E\", None)]]        # (state 6) =E=>(terminal state)\n",
    "\n",
    "embedded_reber_grammar = [\n",
    "    [(\"B\", 1)],\n",
    "    [(\"T\", 2), (\"P\", 3)],\n",
    "    [(default_reber_grammar, 4)],\n",
    "    [(default_reber_grammar, 5)],\n",
    "    [(\"T\", 6)],\n",
    "    [(\"P\", 6)],\n",
    "    [(\"E\", None)]]\n",
    "\n",
    "def generate_string(grammar):\n",
    "    state = 0\n",
    "    output = []\n",
    "    while state is not None:\n",
    "        index = np.random.randint(len(grammar[state]))\n",
    "        production, state = grammar[state][index]\n",
    "        if isinstance(production, list):\n",
    "            production = generate_string(grammar=production)\n",
    "        output.append(production)\n",
    "    return \"\".join(output)"
   ]
  },
  {
   "cell_type": "markdown",
   "id": "55ca8bd0-939b-41e7-90f2-6adbadcf5230",
   "metadata": {},
   "source": [
    "- default_reber_grammar"
   ]
  },
  {
   "cell_type": "code",
   "execution_count": 15,
   "id": "51dafe88-2fe1-41c9-96c7-b2835274fbf8",
   "metadata": {},
   "outputs": [
    {
     "name": "stdout",
     "output_type": "stream",
     "text": [
      "BTXXTTVPXTVPXTTVPSE BPVPSE BTXSE BPVVE BPVVE BTSXSE BPTVPXTTTVVE BPVVE BTXSE BTXXVPSE BPTTTTTTTTVVE BTXSE BPVPSE BTXSE BPTVPSE BTXXTVPSE BPVVE BPVVE BPVVE BPTTVVE BPVVE BPVVE BTXXVVE BTXXVVE BTXXVPXVVE "
     ]
    }
   ],
   "source": [
    "np.random.seed(42)\n",
    "\n",
    "for _ in range(25):\n",
    "    print(generate_string(default_reber_grammar), end=\" \")"
   ]
  },
  {
   "cell_type": "markdown",
   "id": "b414de2f-b020-4bcd-89c4-678266df51ed",
   "metadata": {},
   "source": [
    "- embedded_reber_grammar"
   ]
  },
  {
   "cell_type": "code",
   "execution_count": 17,
   "id": "fa336d67-5a50-459b-8358-bd4867b5f369",
   "metadata": {},
   "outputs": [
    {
     "name": "stdout",
     "output_type": "stream",
     "text": [
      "BTBPTTTVPXTVPXTTVPSETE BPBPTVPSEPE BPBPVVEPE BPBPVPXVVEPE BPBTXXTTTTVVEPE BPBPVPSEPE BPBTXXVPSEPE BPBTSSSSSSSXSEPE BTBPVVETE BPBTXXVVEPE BPBTXXVPSEPE BTBTXXVVETE BPBPVVEPE BPBPVVEPE BPBTSXSEPE BPBPVVEPE BPBPTVPSEPE BPBTXXVVEPE BTBPTVPXVVETE BTBPVVETE BTBTSSSSSSSXXVVETE BPBTSSSXXTTTTVPSEPE BTBPTTVVETE BPBTXXTVVEPE BTBTXSETE "
     ]
    }
   ],
   "source": [
    "np.random.seed(42)\n",
    "\n",
    "for _ in range(25):\n",
    "    print(generate_string(embedded_reber_grammar), end=\" \")"
   ]
  },
  {
   "cell_type": "markdown",
   "id": "ec35a8af-8812-49e6-bf67-d51db29b998b",
   "metadata": {},
   "source": [
    "- 文法を守らない文を生成する関数"
   ]
  },
  {
   "cell_type": "code",
   "execution_count": 22,
   "id": "488d327c-300c-4e00-be17-76c889da0f2c",
   "metadata": {},
   "outputs": [],
   "source": [
    "POSSIBLE_CHARS = \"BEPSTVX\"\n",
    "\n",
    "def generate_corrupted_string(grammar, chars=POSSIBLE_CHARS):\n",
    "    good_string = generate_string(grammar)\n",
    "    index = np.random.randint(len(good_string))\n",
    "    good_char = good_string[index]\n",
    "    bad_char = np.random.choice(sorted(set(chars) - set(good_char)))\n",
    "    return good_string[:index] + bad_char + good_string[index + 1:]"
   ]
  },
  {
   "cell_type": "markdown",
   "id": "4374b5ed-a6e4-4e58-89af-a87fbb95e269",
   "metadata": {},
   "source": [
    "- 文字をエンコード"
   ]
  },
  {
   "cell_type": "code",
   "execution_count": 19,
   "id": "4af1618c-2b97-4983-aa43-e238d0c8ea9f",
   "metadata": {},
   "outputs": [],
   "source": [
    "def string_to_ids(s, chars=POSSIBLE_CHARS):\n",
    "    return [chars.index(c) for c in s]"
   ]
  },
  {
   "cell_type": "code",
   "execution_count": 20,
   "id": "07e54075-c440-4442-b257-e29733bf4fe1",
   "metadata": {},
   "outputs": [
    {
     "data": {
      "text/plain": [
       "[0, 4, 4, 4, 6, 6, 5, 5, 1, 4, 1]"
      ]
     },
     "execution_count": 20,
     "metadata": {},
     "output_type": "execute_result"
    }
   ],
   "source": [
    "string_to_ids(\"BTTTXXVVETE\")"
   ]
  },
  {
   "cell_type": "markdown",
   "id": "fb0bf601-9740-4bf5-8c92-ac76fe099bbe",
   "metadata": {},
   "source": [
    "- 50%で正しい文字列であるようなデータセットを生成する"
   ]
  },
  {
   "cell_type": "code",
   "execution_count": 21,
   "id": "716b4595-cd35-4a0b-8fc4-4f14acf806ac",
   "metadata": {},
   "outputs": [],
   "source": [
    "def generate_dataset(size):\n",
    "    good_strings = [string_to_ids(generate_string(embedded_reber_grammar))\n",
    "                    for _ in range(size // 2)]\n",
    "    bad_strings = [string_to_ids(generate_corrupted_string(embedded_reber_grammar))\n",
    "                   for _ in range(size - size // 2)]\n",
    "    all_strings = good_strings + bad_strings\n",
    "    X = tf.ragged.constant(all_strings, ragged_rank=1)\n",
    "    y = np.array([[1.] for _ in range(len(good_strings))] +\n",
    "                 [[0.] for _ in range(len(bad_strings))])\n",
    "    return X, y"
   ]
  },
  {
   "cell_type": "code",
   "execution_count": 23,
   "id": "51dbca85-9d9e-4f76-acd3-497403a1ecfb",
   "metadata": {},
   "outputs": [],
   "source": [
    "np.random.seed(42)\n",
    "\n",
    "X_train, y_train = generate_dataset(10000)\n",
    "X_valid, y_valid = generate_dataset(2000)"
   ]
  },
  {
   "cell_type": "code",
   "execution_count": 24,
   "id": "e15e1cd1-295c-4922-b388-dafa04e93ddc",
   "metadata": {},
   "outputs": [
    {
     "name": "stdout",
     "output_type": "stream",
     "text": [
      "Epoch 1/20\n"
     ]
    },
    {
     "name": "stderr",
     "output_type": "stream",
     "text": [
      "/Users/mochidzukiyoshihiko/miniforge3/envs/sandbox_py38/lib/python3.8/site-packages/tensorflow/python/framework/indexed_slices.py:448: UserWarning: Converting sparse IndexedSlices(IndexedSlices(indices=Tensor(\"gradient_tape/sequential/gru/RaggedToTensor/boolean_mask_1/GatherV2:0\", shape=(None,), dtype=int32), values=Tensor(\"gradient_tape/sequential/gru/RaggedToTensor/boolean_mask/GatherV2:0\", shape=(None, 5), dtype=float32), dense_shape=Tensor(\"gradient_tape/sequential/gru/RaggedToTensor/Shape:0\", shape=(2,), dtype=int32))) to a dense Tensor of unknown shape. This may consume a large amount of memory.\n",
      "  warnings.warn(\n"
     ]
    },
    {
     "name": "stdout",
     "output_type": "stream",
     "text": [
      "313/313 [==============================] - 2s 4ms/step - loss: 0.6910 - accuracy: 0.5095 - val_loss: 0.6825 - val_accuracy: 0.5645\n",
      "Epoch 2/20\n",
      "313/313 [==============================] - 1s 4ms/step - loss: 0.6678 - accuracy: 0.5659 - val_loss: 0.6635 - val_accuracy: 0.6105\n",
      "Epoch 3/20\n",
      "313/313 [==============================] - 1s 4ms/step - loss: 0.6504 - accuracy: 0.5766 - val_loss: 0.6521 - val_accuracy: 0.6110\n",
      "Epoch 4/20\n",
      "313/313 [==============================] - 1s 4ms/step - loss: 0.6347 - accuracy: 0.5980 - val_loss: 0.6224 - val_accuracy: 0.6445\n",
      "Epoch 5/20\n",
      "313/313 [==============================] - 1s 4ms/step - loss: 0.6054 - accuracy: 0.6361 - val_loss: 0.5779 - val_accuracy: 0.6980\n",
      "Epoch 6/20\n",
      "313/313 [==============================] - 1s 4ms/step - loss: 0.5414 - accuracy: 0.7093 - val_loss: 0.4695 - val_accuracy: 0.7795\n",
      "Epoch 7/20\n",
      "313/313 [==============================] - 1s 4ms/step - loss: 0.3902 - accuracy: 0.8324 - val_loss: 0.3289 - val_accuracy: 0.8640\n",
      "Epoch 8/20\n",
      "313/313 [==============================] - 1s 4ms/step - loss: 0.2453 - accuracy: 0.9102 - val_loss: 0.1201 - val_accuracy: 0.9725\n",
      "Epoch 9/20\n",
      "313/313 [==============================] - 1s 4ms/step - loss: 0.1075 - accuracy: 0.9701 - val_loss: 0.2480 - val_accuracy: 0.9225\n",
      "Epoch 10/20\n",
      "313/313 [==============================] - 1s 4ms/step - loss: 0.1602 - accuracy: 0.9451 - val_loss: 0.2320 - val_accuracy: 0.9245\n",
      "Epoch 11/20\n",
      "313/313 [==============================] - 1s 4ms/step - loss: 0.0945 - accuracy: 0.9739 - val_loss: 0.0495 - val_accuracy: 0.9845\n",
      "Epoch 12/20\n",
      "313/313 [==============================] - 1s 4ms/step - loss: 0.0096 - accuracy: 0.9982 - val_loss: 0.0043 - val_accuracy: 0.9995\n",
      "Epoch 13/20\n",
      "313/313 [==============================] - 1s 4ms/step - loss: 0.0016 - accuracy: 1.0000 - val_loss: 0.0011 - val_accuracy: 1.0000\n",
      "Epoch 14/20\n",
      "313/313 [==============================] - 1s 4ms/step - loss: 8.9347e-04 - accuracy: 1.0000 - val_loss: 7.8780e-04 - val_accuracy: 1.0000\n",
      "Epoch 15/20\n",
      "313/313 [==============================] - 1s 4ms/step - loss: 6.6088e-04 - accuracy: 1.0000 - val_loss: 6.1409e-04 - val_accuracy: 1.0000\n",
      "Epoch 16/20\n",
      "313/313 [==============================] - 1s 4ms/step - loss: 5.3039e-04 - accuracy: 1.0000 - val_loss: 5.0647e-04 - val_accuracy: 1.0000\n",
      "Epoch 17/20\n",
      "313/313 [==============================] - 1s 4ms/step - loss: 4.4411e-04 - accuracy: 1.0000 - val_loss: 4.3016e-04 - val_accuracy: 1.0000\n",
      "Epoch 18/20\n",
      "313/313 [==============================] - 1s 4ms/step - loss: 3.8218e-04 - accuracy: 1.0000 - val_loss: 3.7610e-04 - val_accuracy: 1.0000\n",
      "Epoch 19/20\n",
      "313/313 [==============================] - 1s 4ms/step - loss: 3.3539e-04 - accuracy: 1.0000 - val_loss: 3.3410e-04 - val_accuracy: 1.0000\n",
      "Epoch 20/20\n",
      "313/313 [==============================] - 1s 4ms/step - loss: 2.9881e-04 - accuracy: 1.0000 - val_loss: 2.9705e-04 - val_accuracy: 1.0000\n"
     ]
    }
   ],
   "source": [
    "np.random.seed(42)\n",
    "tf.random.set_seed(42)\n",
    "\n",
    "embedding_size = 5\n",
    "\n",
    "model = keras.models.Sequential([\n",
    "    keras.layers.InputLayer(input_shape=[None], dtype=tf.int32, ragged=True),\n",
    "    keras.layers.Embedding(input_dim=len(POSSIBLE_CHARS), output_dim=embedding_size),\n",
    "    keras.layers.GRU(30),\n",
    "    keras.layers.Dense(1, activation=\"sigmoid\")\n",
    "])\n",
    "optimizer = keras.optimizers.SGD(learning_rate=0.02, momentum = 0.95, nesterov=True)\n",
    "model.compile(loss=\"binary_crossentropy\", optimizer=optimizer, metrics=[\"accuracy\"])\n",
    "history = model.fit(X_train, y_train, epochs=20, validation_data=(X_valid, y_valid))"
   ]
  },
  {
   "cell_type": "markdown",
   "id": "23872ede-f4bf-45a9-aeeb-a4c233774dcd",
   "metadata": {},
   "source": [
    "- テスト\n",
    "- 最初の文は正しくなく、2番目の文は正しい。（正しい文には、最初から2番目の文字と最後から2番目の文字が一致する、というルールがある）"
   ]
  },
  {
   "cell_type": "code",
   "execution_count": 26,
   "id": "d8695d78-5691-49ac-bd14-914aeb451746",
   "metadata": {},
   "outputs": [
    {
     "name": "stdout",
     "output_type": "stream",
     "text": [
      "\n",
      "Estimated probability that these are Reber strings:\n",
      "BPBTSSSSSSSXXTTVPXVPXTTTTTVVETE: 0.26%\n",
      "BPBTSSSSSSSXXTTVPXVPXTTTTTVVEPE: 99.96%\n"
     ]
    }
   ],
   "source": [
    "test_strings = [\"BPBTSSSSSSSXXTTVPXVPXTTTTTVVETE\",\n",
    "                \"BPBTSSSSSSSXXTTVPXVPXTTTTTVVEPE\"]\n",
    "X_test = tf.ragged.constant([string_to_ids(s) for s in test_strings], ragged_rank=1)\n",
    "\n",
    "y_proba = model.predict(X_test)\n",
    "print()\n",
    "print(\"Estimated probability that these are Reber strings:\")\n",
    "for index, string in enumerate(test_strings):\n",
    "    print(\"{}: {:.2f}%\".format(string, 100 * y_proba[index][0]))"
   ]
  },
  {
   "cell_type": "markdown",
   "id": "5ccec284-0f1b-48ac-be19-4e12ee5e34b4",
   "metadata": {},
   "source": [
    "### 16.6.9"
   ]
  },
  {
   "cell_type": "markdown",
   "id": "e06c5085-2b02-4a6a-a05c-82d36fa6b289",
   "metadata": {},
   "source": [
    "- データセットの作成"
   ]
  },
  {
   "cell_type": "code",
   "execution_count": 31,
   "id": "1a18d83e-b1f8-4916-83b3-803fc98b90d2",
   "metadata": {},
   "outputs": [],
   "source": [
    "from datetime import date\n",
    "\n",
    "# cannot use strftime()'s %B format since it depends on the locale\n",
    "MONTHS = [\"January\", \"February\", \"March\", \"April\", \"May\", \"June\",\n",
    "          \"July\", \"August\", \"September\", \"October\", \"November\", \"December\"]\n",
    "\n",
    "def random_dates(n_dates):\n",
    "    min_date = date(1000, 1, 1).toordinal()\n",
    "    max_date = date(9999, 12, 31).toordinal()\n",
    "\n",
    "    ordinals = np.random.randint(max_date - min_date, size=n_dates) + min_date\n",
    "    dates = [date.fromordinal(ordinal) for ordinal in ordinals]\n",
    "\n",
    "    x = [MONTHS[dt.month - 1] + \" \" + dt.strftime(\"%d, %Y\") for dt in dates]\n",
    "    y = [dt.isoformat() for dt in dates]\n",
    "    return x, y"
   ]
  },
  {
   "cell_type": "code",
   "execution_count": 32,
   "id": "debaa46d-047e-4ee8-918d-0dd746d51ae8",
   "metadata": {},
   "outputs": [
    {
     "name": "stdout",
     "output_type": "stream",
     "text": [
      "Input                    Target                   \n",
      "--------------------------------------------------\n",
      "September 20, 7075       7075-09-20               \n",
      "May 15, 8579             8579-05-15               \n",
      "January 11, 7103         7103-01-11               \n"
     ]
    }
   ],
   "source": [
    "np.random.seed(42)\n",
    "\n",
    "n_dates = 3\n",
    "x_example, y_example = random_dates(n_dates)\n",
    "print(\"{:25s}{:25s}\".format(\"Input\", \"Target\"))\n",
    "print(\"-\" * 50)\n",
    "for idx in range(n_dates):\n",
    "    print(\"{:25s}{:25s}\".format(x_example[idx], y_example[idx]))"
   ]
  },
  {
   "cell_type": "markdown",
   "id": "a2c8c924-569d-4fc2-bc28-4dc6893e4314",
   "metadata": {},
   "source": [
    "- 文字リスト"
   ]
  },
  {
   "cell_type": "code",
   "execution_count": 33,
   "id": "fb0b655b-437c-4b96-9ce2-a346d2e2b675",
   "metadata": {},
   "outputs": [
    {
     "data": {
      "text/plain": [
       "' ,0123456789ADFJMNOSabceghilmnoprstuvy'"
      ]
     },
     "execution_count": 33,
     "metadata": {},
     "output_type": "execute_result"
    }
   ],
   "source": [
    "INPUT_CHARS = \"\".join(sorted(set(\"\".join(MONTHS) + \"0123456789, \")))\n",
    "INPUT_CHARS"
   ]
  },
  {
   "cell_type": "code",
   "execution_count": 34,
   "id": "735b5af3-2a8d-494c-882b-918b7809bc05",
   "metadata": {},
   "outputs": [],
   "source": [
    "OUTPUT_CHARS = \"0123456789-\""
   ]
  },
  {
   "cell_type": "code",
   "execution_count": 35,
   "id": "89f66792-f575-4d4d-ad2f-2744baee4dd6",
   "metadata": {},
   "outputs": [],
   "source": [
    "def date_str_to_ids(date_str, chars=INPUT_CHARS):\n",
    "    return [chars.index(c) for c in date_str]"
   ]
  },
  {
   "cell_type": "code",
   "execution_count": 36,
   "id": "fbab0a11-1e87-4c54-ac44-75397947315b",
   "metadata": {},
   "outputs": [],
   "source": [
    "def prepare_date_strs(date_strs, chars=INPUT_CHARS):\n",
    "    X_ids = [date_str_to_ids(dt, chars) for dt in date_strs]\n",
    "    X = tf.ragged.constant(X_ids, ragged_rank=1)\n",
    "    return (X + 1).to_tensor() # using 0 as the padding token ID\n",
    "\n",
    "def create_dataset(n_dates):\n",
    "    x, y = random_dates(n_dates)\n",
    "    return prepare_date_strs(x, INPUT_CHARS), prepare_date_strs(y, OUTPUT_CHARS)"
   ]
  },
  {
   "cell_type": "code",
   "execution_count": 37,
   "id": "5979e4a6-9cac-4b43-8aa3-8d4275861ea6",
   "metadata": {},
   "outputs": [],
   "source": [
    "np.random.seed(42)\n",
    "\n",
    "X_train, Y_train = create_dataset(10000)\n",
    "X_valid, Y_valid = create_dataset(2000)\n",
    "X_test, Y_test = create_dataset(2000)"
   ]
  },
  {
   "cell_type": "code",
   "execution_count": 38,
   "id": "7b62ba44-d4e0-4e34-9de3-8c7405de1ba1",
   "metadata": {},
   "outputs": [
    {
     "data": {
      "text/plain": [
       "<tf.Tensor: shape=(10,), dtype=int32, numpy=array([ 8,  1,  8,  6, 11,  1, 10, 11,  3,  1], dtype=int32)>"
      ]
     },
     "execution_count": 38,
     "metadata": {},
     "output_type": "execute_result"
    }
   ],
   "source": [
    "Y_train[0]"
   ]
  },
  {
   "cell_type": "markdown",
   "id": "dfc9ac64-bec4-42a6-9fe5-f4569bbb4219",
   "metadata": {},
   "source": [
    "#### seq2seq"
   ]
  },
  {
   "cell_type": "code",
   "execution_count": 39,
   "id": "d0f6a7c4-f2a5-43fc-888c-029c995a53aa",
   "metadata": {},
   "outputs": [
    {
     "name": "stdout",
     "output_type": "stream",
     "text": [
      "Epoch 1/20\n",
      "313/313 [==============================] - 6s 16ms/step - loss: 1.8160 - accuracy: 0.3486 - val_loss: 1.3729 - val_accuracy: 0.4918\n",
      "Epoch 2/20\n",
      "313/313 [==============================] - 5s 15ms/step - loss: 1.2136 - accuracy: 0.5572 - val_loss: 1.0488 - val_accuracy: 0.6169\n",
      "Epoch 3/20\n",
      "313/313 [==============================] - 5s 15ms/step - loss: 1.0898 - accuracy: 0.6108 - val_loss: 0.9107 - val_accuracy: 0.6672\n",
      "Epoch 4/20\n",
      "313/313 [==============================] - 5s 16ms/step - loss: 0.8676 - accuracy: 0.6904 - val_loss: 0.7380 - val_accuracy: 0.7237\n",
      "Epoch 5/20\n",
      "313/313 [==============================] - 5s 16ms/step - loss: 0.6048 - accuracy: 0.7686 - val_loss: 0.5252 - val_accuracy: 0.7905\n",
      "Epoch 6/20\n",
      "313/313 [==============================] - 5s 16ms/step - loss: 0.7182 - accuracy: 0.7431 - val_loss: 0.4879 - val_accuracy: 0.8245\n",
      "Epoch 7/20\n",
      "313/313 [==============================] - 5s 16ms/step - loss: 0.4996 - accuracy: 0.8253 - val_loss: 0.3628 - val_accuracy: 0.8669\n",
      "Epoch 8/20\n",
      "313/313 [==============================] - 5s 16ms/step - loss: 0.2862 - accuracy: 0.8990 - val_loss: 0.2351 - val_accuracy: 0.9232\n",
      "Epoch 9/20\n",
      "313/313 [==============================] - 5s 16ms/step - loss: 0.1913 - accuracy: 0.9437 - val_loss: 0.1482 - val_accuracy: 0.9621\n",
      "Epoch 10/20\n",
      "313/313 [==============================] - 5s 17ms/step - loss: 0.1084 - accuracy: 0.9757 - val_loss: 0.0916 - val_accuracy: 0.9793\n",
      "Epoch 11/20\n",
      "313/313 [==============================] - 5s 16ms/step - loss: 0.0737 - accuracy: 0.9859 - val_loss: 0.0525 - val_accuracy: 0.9929\n",
      "Epoch 12/20\n",
      "313/313 [==============================] - 5s 16ms/step - loss: 0.0389 - accuracy: 0.9955 - val_loss: 0.0315 - val_accuracy: 0.9963\n",
      "Epoch 13/20\n",
      "313/313 [==============================] - 5s 17ms/step - loss: 0.0230 - accuracy: 0.9984 - val_loss: 0.0196 - val_accuracy: 0.9988\n",
      "Epoch 14/20\n",
      "313/313 [==============================] - 5s 17ms/step - loss: 0.0143 - accuracy: 0.9996 - val_loss: 0.0133 - val_accuracy: 0.9994\n",
      "Epoch 15/20\n",
      "313/313 [==============================] - 5s 17ms/step - loss: 0.0092 - accuracy: 0.9999 - val_loss: 0.0088 - val_accuracy: 0.9997\n",
      "Epoch 16/20\n",
      "313/313 [==============================] - 5s 17ms/step - loss: 0.1055 - accuracy: 0.9761 - val_loss: 0.2634 - val_accuracy: 0.9199\n",
      "Epoch 17/20\n",
      "313/313 [==============================] - 5s 17ms/step - loss: 0.0342 - accuracy: 0.9958 - val_loss: 0.0125 - val_accuracy: 0.9996\n",
      "Epoch 18/20\n",
      "313/313 [==============================] - 5s 17ms/step - loss: 0.0080 - accuracy: 1.0000 - val_loss: 0.0071 - val_accuracy: 0.9998\n",
      "Epoch 19/20\n",
      "313/313 [==============================] - 5s 18ms/step - loss: 0.0050 - accuracy: 1.0000 - val_loss: 0.0050 - val_accuracy: 0.9998\n",
      "Epoch 20/20\n",
      "313/313 [==============================] - 6s 18ms/step - loss: 0.0036 - accuracy: 1.0000 - val_loss: 0.0038 - val_accuracy: 0.9998\n"
     ]
    }
   ],
   "source": [
    "embedding_size = 32\n",
    "max_output_length = Y_train.shape[1]\n",
    "\n",
    "np.random.seed(42)\n",
    "tf.random.set_seed(42)\n",
    "\n",
    "encoder = keras.models.Sequential([\n",
    "    keras.layers.Embedding(input_dim=len(INPUT_CHARS) + 1,\n",
    "                           output_dim=embedding_size,\n",
    "                           input_shape=[None]),\n",
    "    keras.layers.LSTM(128)\n",
    "])\n",
    "\n",
    "decoder = keras.models.Sequential([\n",
    "    keras.layers.LSTM(128, return_sequences=True),\n",
    "    keras.layers.Dense(len(OUTPUT_CHARS) + 1, activation=\"softmax\")\n",
    "])\n",
    "\n",
    "model = keras.models.Sequential([\n",
    "    encoder,\n",
    "    keras.layers.RepeatVector(max_output_length),\n",
    "    decoder\n",
    "])\n",
    "\n",
    "optimizer = keras.optimizers.Nadam()\n",
    "model.compile(loss=\"sparse_categorical_crossentropy\", optimizer=optimizer,\n",
    "              metrics=[\"accuracy\"])\n",
    "history = model.fit(X_train, Y_train, epochs=20,\n",
    "                    validation_data=(X_valid, Y_valid))"
   ]
  },
  {
   "cell_type": "code",
   "execution_count": 40,
   "id": "9ac47b3d-3fe2-42c9-9d91-48549d43d6e8",
   "metadata": {},
   "outputs": [],
   "source": [
    "def ids_to_date_strs(ids, chars=OUTPUT_CHARS):\n",
    "    return [\"\".join([(\"?\" + chars)[index] for index in sequence])\n",
    "            for sequence in ids]"
   ]
  },
  {
   "cell_type": "markdown",
   "id": "26decf35-f979-4be8-a53c-b7e5be1977ac",
   "metadata": {},
   "source": [
    "- 予測"
   ]
  },
  {
   "cell_type": "code",
   "execution_count": 41,
   "id": "5cce5374-b9a3-4359-9698-547b0f10abd7",
   "metadata": {},
   "outputs": [],
   "source": [
    "X_new = prepare_date_strs([\"September 17, 2009\", \"July 14, 1789\"])"
   ]
  },
  {
   "cell_type": "code",
   "execution_count": 42,
   "id": "551308d6-af19-405b-ae39-496750e0ad7f",
   "metadata": {},
   "outputs": [
    {
     "name": "stdout",
     "output_type": "stream",
     "text": [
      "2009-09-17\n",
      "1789-07-14\n"
     ]
    }
   ],
   "source": [
    "#ids = model.predict_classes(X_new)\n",
    "ids = np.argmax(model.predict(X_new), axis=-1)\n",
    "for date_str in ids_to_date_strs(ids):\n",
    "    print(date_str)"
   ]
  },
  {
   "cell_type": "markdown",
   "id": "fef3f868-5a46-48cf-8ab9-b36268732931",
   "metadata": {},
   "source": [
    "- 但し、このモデルでは最長の日付に合わせて学習しているので、短い日付の時はうまくいかないことがある"
   ]
  },
  {
   "cell_type": "code",
   "execution_count": 43,
   "id": "03b902f1-9539-4ed8-bbbf-fce2e4ae6e56",
   "metadata": {},
   "outputs": [],
   "source": [
    "X_new = prepare_date_strs([\"May 02, 2020\", \"July 14, 1789\"])"
   ]
  },
  {
   "cell_type": "code",
   "execution_count": 44,
   "id": "567ffbca-0b88-4477-92cb-acc74b468c32",
   "metadata": {},
   "outputs": [
    {
     "name": "stdout",
     "output_type": "stream",
     "text": [
      "2020-02-02\n",
      "1789-01-14\n"
     ]
    }
   ],
   "source": [
    "#ids = model.predict_classes(X_new)\n",
    "ids = np.argmax(model.predict(X_new), axis=-1)\n",
    "for date_str in ids_to_date_strs(ids):\n",
    "    print(date_str)"
   ]
  },
  {
   "cell_type": "markdown",
   "id": "df736845-b7da-435c-a5d0-7eceb6039c08",
   "metadata": {},
   "source": [
    "- Paddingすることでこれに対処する"
   ]
  },
  {
   "cell_type": "code",
   "execution_count": 46,
   "id": "c9288f04-6e3f-4593-90db-67d6340e66d7",
   "metadata": {},
   "outputs": [],
   "source": [
    "max_input_length = X_train.shape[1]\n",
    "\n",
    "def prepare_date_strs_padded(date_strs):\n",
    "    X = prepare_date_strs(date_strs)\n",
    "    if X.shape[1] < max_input_length:\n",
    "        X = tf.pad(X, [[0, 0], [0, max_input_length - X.shape[1]]])\n",
    "    return X\n",
    "\n",
    "def convert_date_strs(date_strs):\n",
    "    X = prepare_date_strs_padded(date_strs)\n",
    "    #ids = model.predict_classes(X)\n",
    "    ids = np.argmax(model.predict(X), axis=-1)\n",
    "    return ids_to_date_strs(ids)"
   ]
  },
  {
   "cell_type": "code",
   "execution_count": 47,
   "id": "0f80d83f-27a5-42e5-ab9a-3f305dae997d",
   "metadata": {},
   "outputs": [
    {
     "data": {
      "text/plain": [
       "['2020-05-02', '1789-07-14']"
      ]
     },
     "execution_count": 47,
     "metadata": {},
     "output_type": "execute_result"
    }
   ],
   "source": [
    "convert_date_strs([\"May 02, 2020\", \"July 14, 1789\"])"
   ]
  },
  {
   "cell_type": "markdown",
   "id": "3eb892a8-3679-49e8-9191-5f8c02f979e6",
   "metadata": {},
   "source": [
    "####  shifted targets to the decoder (teacher forcing)"
   ]
  },
  {
   "cell_type": "code",
   "execution_count": 48,
   "id": "20dafd1f-aea8-4f5d-a214-248b3b6ba407",
   "metadata": {},
   "outputs": [],
   "source": [
    "sos_id = len(OUTPUT_CHARS) + 1\n",
    "\n",
    "def shifted_output_sequences(Y):\n",
    "    sos_tokens = tf.fill(dims=(len(Y), 1), value=sos_id)\n",
    "    return tf.concat([sos_tokens, Y[:, :-1]], axis=1)\n",
    "\n",
    "X_train_decoder = shifted_output_sequences(Y_train)\n",
    "X_valid_decoder = shifted_output_sequences(Y_valid)\n",
    "X_test_decoder = shifted_output_sequences(Y_test)"
   ]
  },
  {
   "cell_type": "code",
   "execution_count": 49,
   "id": "57c38fd4-934e-41c4-aa69-89fd20c11008",
   "metadata": {},
   "outputs": [
    {
     "name": "stdout",
     "output_type": "stream",
     "text": [
      "Epoch 1/10\n",
      "313/313 [==============================] - 6s 16ms/step - loss: 1.6826 - accuracy: 0.3733 - val_loss: 1.4075 - val_accuracy: 0.4687\n",
      "Epoch 2/10\n",
      "313/313 [==============================] - 5s 16ms/step - loss: 1.1949 - accuracy: 0.5538 - val_loss: 0.9048 - val_accuracy: 0.6625\n",
      "Epoch 3/10\n",
      "313/313 [==============================] - 5s 17ms/step - loss: 0.6519 - accuracy: 0.7649 - val_loss: 0.3803 - val_accuracy: 0.8787\n",
      "Epoch 4/10\n",
      "313/313 [==============================] - 5s 17ms/step - loss: 0.2202 - accuracy: 0.9455 - val_loss: 0.1193 - val_accuracy: 0.9786\n",
      "Epoch 5/10\n",
      "313/313 [==============================] - 5s 17ms/step - loss: 0.0700 - accuracy: 0.9929 - val_loss: 0.0399 - val_accuracy: 0.9991\n",
      "Epoch 6/10\n",
      "313/313 [==============================] - 5s 17ms/step - loss: 0.0786 - accuracy: 0.9874 - val_loss: 0.0242 - val_accuracy: 0.9996\n",
      "Epoch 7/10\n",
      "313/313 [==============================] - 5s 17ms/step - loss: 0.0173 - accuracy: 0.9998 - val_loss: 0.0149 - val_accuracy: 0.9999\n",
      "Epoch 8/10\n",
      "313/313 [==============================] - 5s 17ms/step - loss: 0.0107 - accuracy: 0.9999 - val_loss: 0.0093 - val_accuracy: 0.9999\n",
      "Epoch 9/10\n",
      "313/313 [==============================] - 5s 17ms/step - loss: 0.0070 - accuracy: 1.0000 - val_loss: 0.0068 - val_accuracy: 0.9999\n",
      "Epoch 10/10\n",
      "313/313 [==============================] - 6s 18ms/step - loss: 0.0049 - accuracy: 1.0000 - val_loss: 0.0048 - val_accuracy: 0.9999\n"
     ]
    }
   ],
   "source": [
    "encoder_embedding_size = 32\n",
    "decoder_embedding_size = 32\n",
    "lstm_units = 128\n",
    "\n",
    "np.random.seed(42)\n",
    "tf.random.set_seed(42)\n",
    "\n",
    "encoder_input = keras.layers.Input(shape=[None], dtype=tf.int32)\n",
    "encoder_embedding = keras.layers.Embedding(\n",
    "    input_dim=len(INPUT_CHARS) + 1,\n",
    "    output_dim=encoder_embedding_size)(encoder_input)\n",
    "_, encoder_state_h, encoder_state_c = keras.layers.LSTM(\n",
    "    lstm_units, return_state=True)(encoder_embedding)\n",
    "encoder_state = [encoder_state_h, encoder_state_c]\n",
    "\n",
    "decoder_input = keras.layers.Input(shape=[None], dtype=tf.int32)\n",
    "decoder_embedding = keras.layers.Embedding(\n",
    "    input_dim=len(OUTPUT_CHARS) + 2,\n",
    "    output_dim=decoder_embedding_size)(decoder_input)\n",
    "decoder_lstm_output = keras.layers.LSTM(lstm_units, return_sequences=True)(\n",
    "    decoder_embedding, initial_state=encoder_state)\n",
    "decoder_output = keras.layers.Dense(len(OUTPUT_CHARS) + 1,\n",
    "                                    activation=\"softmax\")(decoder_lstm_output)\n",
    "\n",
    "model = keras.models.Model(inputs=[encoder_input, decoder_input],\n",
    "                           outputs=[decoder_output])\n",
    "\n",
    "optimizer = keras.optimizers.Nadam()\n",
    "model.compile(loss=\"sparse_categorical_crossentropy\", optimizer=optimizer,\n",
    "              metrics=[\"accuracy\"])\n",
    "history = model.fit([X_train, X_train_decoder], Y_train, epochs=10,\n",
    "                    validation_data=([X_valid, X_valid_decoder], Y_valid))"
   ]
  },
  {
   "cell_type": "code",
   "execution_count": 50,
   "id": "7c81829c-e759-44cc-9578-c12eac22c081",
   "metadata": {},
   "outputs": [],
   "source": [
    "sos_id = len(OUTPUT_CHARS) + 1\n",
    "\n",
    "def predict_date_strs(date_strs):\n",
    "    X = prepare_date_strs_padded(date_strs)\n",
    "    Y_pred = tf.fill(dims=(len(X), 1), value=sos_id)\n",
    "    for index in range(max_output_length):\n",
    "        pad_size = max_output_length - Y_pred.shape[1]\n",
    "        X_decoder = tf.pad(Y_pred, [[0, 0], [0, pad_size]])\n",
    "        Y_probas_next = model.predict([X, X_decoder])[:, index:index+1]\n",
    "        Y_pred_next = tf.argmax(Y_probas_next, axis=-1, output_type=tf.int32)\n",
    "        Y_pred = tf.concat([Y_pred, Y_pred_next], axis=1)\n",
    "    return ids_to_date_strs(Y_pred[:, 1:])"
   ]
  },
  {
   "cell_type": "code",
   "execution_count": 51,
   "id": "037f24ae-b949-4325-b37b-b1048c8570f8",
   "metadata": {},
   "outputs": [
    {
     "data": {
      "text/plain": [
       "['1789-07-14', '2020-05-01']"
      ]
     },
     "execution_count": 51,
     "metadata": {},
     "output_type": "execute_result"
    }
   ],
   "source": [
    "predict_date_strs([\"July 14, 1789\", \"May 01, 2020\"])"
   ]
  },
  {
   "cell_type": "markdown",
   "id": "5376d5a9-d7a9-4d41-b40c-53e02afc456b",
   "metadata": {},
   "source": [
    "#### TF-Addons's seq2seq"
   ]
  },
  {
   "cell_type": "code",
   "execution_count": 54,
   "id": "be99a593-b84c-4d5e-8406-f1d9a6cf633a",
   "metadata": {},
   "outputs": [],
   "source": [
    "# import tensorflow_addons as tfa\n",
    "\n",
    "# np.random.seed(42)\n",
    "# tf.random.set_seed(42)\n",
    "\n",
    "# encoder_embedding_size = 32\n",
    "# decoder_embedding_size = 32\n",
    "# units = 128\n",
    "\n",
    "# encoder_inputs = keras.layers.Input(shape=[None], dtype=np.int32)\n",
    "# decoder_inputs = keras.layers.Input(shape=[None], dtype=np.int32)\n",
    "# sequence_lengths = keras.layers.Input(shape=[], dtype=np.int32)\n",
    "\n",
    "# encoder_embeddings = keras.layers.Embedding(\n",
    "#     len(INPUT_CHARS) + 1, encoder_embedding_size)(encoder_inputs)\n",
    "\n",
    "# decoder_embedding_layer = keras.layers.Embedding(\n",
    "#     len(OUTPUT_CHARS) + 2, decoder_embedding_size)\n",
    "# decoder_embeddings = decoder_embedding_layer(decoder_inputs)\n",
    "\n",
    "# encoder = keras.layers.LSTM(units, return_state=True)\n",
    "# encoder_outputs, state_h, state_c = encoder(encoder_embeddings)\n",
    "# encoder_state = [state_h, state_c]\n",
    "\n",
    "# sampler = tfa.seq2seq.sampler.TrainingSampler()\n",
    "\n",
    "# decoder_cell = keras.layers.LSTMCell(units)\n",
    "# output_layer = keras.layers.Dense(len(OUTPUT_CHARS) + 1)\n",
    "\n",
    "# decoder = tfa.seq2seq.basic_decoder.BasicDecoder(decoder_cell,\n",
    "#                                                  sampler,\n",
    "#                                                  output_layer=output_layer)\n",
    "# final_outputs, final_state, final_sequence_lengths = decoder(\n",
    "#     decoder_embeddings,\n",
    "#     initial_state=encoder_state)\n",
    "# Y_proba = keras.layers.Activation(\"softmax\")(final_outputs.rnn_output)\n",
    "\n",
    "# model = keras.models.Model(inputs=[encoder_inputs, decoder_inputs],\n",
    "#                            outputs=[Y_proba])\n",
    "# optimizer = keras.optimizers.Nadam()\n",
    "# model.compile(loss=\"sparse_categorical_crossentropy\", optimizer=optimizer,\n",
    "#               metrics=[\"accuracy\"])\n",
    "# history = model.fit([X_train, X_train_decoder], Y_train, epochs=15,\n",
    "#                     validation_data=([X_valid, X_valid_decoder], Y_valid))"
   ]
  },
  {
   "cell_type": "code",
   "execution_count": 55,
   "id": "73cd0b61-9a5b-4c6e-b4ff-888f4cc2b949",
   "metadata": {},
   "outputs": [],
   "source": [
    "# predict_date_strs([\"July 14, 1789\", \"May 01, 2020\"])"
   ]
  },
  {
   "cell_type": "markdown",
   "id": "e00a1fff-55af-4f7e-a5f3-ee25842e8a97",
   "metadata": {},
   "source": [
    "- GreedyEmbeddingSampler"
   ]
  },
  {
   "cell_type": "code",
   "execution_count": 56,
   "id": "e7d1f136-91a7-4214-bfb4-94b347d0ab28",
   "metadata": {},
   "outputs": [],
   "source": [
    "# inference_sampler = tfa.seq2seq.sampler.GreedyEmbeddingSampler(\n",
    "#     embedding_fn=decoder_embedding_layer)\n",
    "# inference_decoder = tfa.seq2seq.basic_decoder.BasicDecoder(\n",
    "#     decoder_cell, inference_sampler, output_layer=output_layer,\n",
    "#     maximum_iterations=max_output_length)\n",
    "# batch_size = tf.shape(encoder_inputs)[:1]\n",
    "# start_tokens = tf.fill(dims=batch_size, value=sos_id)\n",
    "# final_outputs, final_state, final_sequence_lengths = inference_decoder(\n",
    "#     start_tokens,\n",
    "#     initial_state=encoder_state,\n",
    "#     start_tokens=start_tokens,\n",
    "#     end_token=0)\n",
    "\n",
    "# inference_model = keras.models.Model(inputs=[encoder_inputs],\n",
    "#                                      outputs=[final_outputs.sample_id])"
   ]
  },
  {
   "cell_type": "code",
   "execution_count": 57,
   "id": "b9bf9656-1bfe-4fa6-b0b3-fb3f90f3fb57",
   "metadata": {},
   "outputs": [],
   "source": [
    "# def fast_predict_date_strs(date_strs):\n",
    "#     X = prepare_date_strs_padded(date_strs)\n",
    "#     Y_pred = inference_model.predict(X)\n",
    "#     return ids_to_date_strs(Y_pred)"
   ]
  },
  {
   "cell_type": "code",
   "execution_count": 58,
   "id": "6645fa0d-a354-4de1-b4f4-a625924920f1",
   "metadata": {},
   "outputs": [],
   "source": [
    "# fast_predict_date_strs([\"July 14, 1789\", \"May 01, 2020\"])"
   ]
  },
  {
   "cell_type": "markdown",
   "id": "d63be983-3fd5-4591-ab21-03601e6d5cff",
   "metadata": {},
   "source": [
    "#### TF-Addons's seq2seq implementation with a scheduled sampler"
   ]
  },
  {
   "cell_type": "markdown",
   "id": "ad91e04f-5934-4b19-abff-3ca0b61f8041",
   "metadata": {},
   "source": [
    "- 学習中にターゲットを予測に置き換えることで学習と推論のギャップを埋める"
   ]
  },
  {
   "cell_type": "code",
   "execution_count": 59,
   "id": "3cdaa745-7922-4593-a874-89474fdd394d",
   "metadata": {},
   "outputs": [],
   "source": [
    "# import tensorflow_addons as tfa\n",
    "\n",
    "# np.random.seed(42)\n",
    "# tf.random.set_seed(42)\n",
    "\n",
    "# n_epochs = 20\n",
    "# encoder_embedding_size = 32\n",
    "# decoder_embedding_size = 32\n",
    "# units = 128\n",
    "\n",
    "# encoder_inputs = keras.layers.Input(shape=[None], dtype=np.int32)\n",
    "# decoder_inputs = keras.layers.Input(shape=[None], dtype=np.int32)\n",
    "# sequence_lengths = keras.layers.Input(shape=[], dtype=np.int32)\n",
    "\n",
    "# encoder_embeddings = keras.layers.Embedding(\n",
    "#     len(INPUT_CHARS) + 1, encoder_embedding_size)(encoder_inputs)\n",
    "\n",
    "# decoder_embedding_layer = keras.layers.Embedding(\n",
    "#     len(OUTPUT_CHARS) + 2, decoder_embedding_size)\n",
    "# decoder_embeddings = decoder_embedding_layer(decoder_inputs)\n",
    "\n",
    "# encoder = keras.layers.LSTM(units, return_state=True)\n",
    "# encoder_outputs, state_h, state_c = encoder(encoder_embeddings)\n",
    "# encoder_state = [state_h, state_c]\n",
    "\n",
    "# sampler = tfa.seq2seq.sampler.ScheduledEmbeddingTrainingSampler(\n",
    "#     sampling_probability=0.,\n",
    "#     embedding_fn=decoder_embedding_layer)\n",
    "# # we must set the sampling_probability after creating the sampler\n",
    "# # (see https://github.com/tensorflow/addons/pull/1714)\n",
    "# sampler.sampling_probability = tf.Variable(0.)\n",
    "\n",
    "# decoder_cell = keras.layers.LSTMCell(units)\n",
    "# output_layer = keras.layers.Dense(len(OUTPUT_CHARS) + 1)\n",
    "\n",
    "# decoder = tfa.seq2seq.basic_decoder.BasicDecoder(decoder_cell,\n",
    "#                                                  sampler,\n",
    "#                                                  output_layer=output_layer)\n",
    "# final_outputs, final_state, final_sequence_lengths = decoder(\n",
    "#     decoder_embeddings,\n",
    "#     initial_state=encoder_state)\n",
    "# Y_proba = keras.layers.Activation(\"softmax\")(final_outputs.rnn_output)\n",
    "\n",
    "# model = keras.models.Model(inputs=[encoder_inputs, decoder_inputs],\n",
    "#                            outputs=[Y_proba])\n",
    "# optimizer = keras.optimizers.Nadam()\n",
    "# model.compile(loss=\"sparse_categorical_crossentropy\", optimizer=optimizer,\n",
    "#               metrics=[\"accuracy\"])\n",
    "\n",
    "# def update_sampling_probability(epoch, logs):\n",
    "#     proba = min(1.0, epoch / (n_epochs - 10))\n",
    "#     sampler.sampling_probability.assign(proba)\n",
    "\n",
    "# sampling_probability_cb = keras.callbacks.LambdaCallback(\n",
    "#     on_epoch_begin=update_sampling_probability)\n",
    "# history = model.fit([X_train, X_train_decoder], Y_train, epochs=n_epochs,\n",
    "#                     validation_data=([X_valid, X_valid_decoder], Y_valid),\n",
    "#                     callbacks=[sampling_probability_cb])"
   ]
  },
  {
   "cell_type": "code",
   "execution_count": 62,
   "id": "4af52e4f-d5b1-4844-8d6c-95e275821c65",
   "metadata": {},
   "outputs": [],
   "source": [
    "# softmax_temperature = tf.Variable(1.)\n",
    "\n",
    "# inference_sampler = tfa.seq2seq.sampler.SampleEmbeddingSampler(\n",
    "#     embedding_fn=decoder_embedding_layer,\n",
    "#     softmax_temperature=softmax_temperature)\n",
    "# inference_decoder = tfa.seq2seq.basic_decoder.BasicDecoder(\n",
    "#     decoder_cell, inference_sampler, output_layer=output_layer,\n",
    "#     maximum_iterations=max_output_length)\n",
    "# batch_size = tf.shape(encoder_inputs)[:1]\n",
    "# start_tokens = tf.fill(dims=batch_size, value=sos_id)\n",
    "# final_outputs, final_state, final_sequence_lengths = inference_decoder(\n",
    "#     start_tokens,\n",
    "#     initial_state=encoder_state,\n",
    "#     start_tokens=start_tokens,\n",
    "#     end_token=0)\n",
    "\n",
    "# inference_model = keras.models.Model(inputs=[encoder_inputs],\n",
    "#                                      outputs=[final_outputs.sample_id])"
   ]
  },
  {
   "cell_type": "code",
   "execution_count": 63,
   "id": "a2e677f2-eca9-4fdb-a62f-3649de786423",
   "metadata": {},
   "outputs": [],
   "source": [
    "# def creative_predict_date_strs(date_strs, temperature=1.0):\n",
    "#     softmax_temperature.assign(temperature)\n",
    "#     X = prepare_date_strs_padded(date_strs)\n",
    "#     Y_pred = inference_model.predict(X)\n",
    "#     return ids_to_date_strs(Y_pred)"
   ]
  },
  {
   "cell_type": "code",
   "execution_count": 64,
   "id": "68b3c9d6-760c-4a85-a76e-9e56f897b9b9",
   "metadata": {},
   "outputs": [],
   "source": [
    "# tf.random.set_seed(42)\n",
    "\n",
    "# creative_predict_date_strs([\"July 14, 1789\", \"May 01, 2020\"])"
   ]
  },
  {
   "cell_type": "code",
   "execution_count": 65,
   "id": "768adae1-4442-4c7a-b901-1b370822439f",
   "metadata": {},
   "outputs": [],
   "source": [
    "# tf.random.set_seed(42)\n",
    "\n",
    "# creative_predict_date_strs([\"July 14, 1789\", \"May 01, 2020\"],\n",
    "#                            temperature=5.)"
   ]
  },
  {
   "cell_type": "markdown",
   "id": "391bb459-6d02-419c-a709-48fe0dff21f6",
   "metadata": {},
   "source": [
    "#### using TFA seq2seq, the Keras subclassing API and attention mechanisms"
   ]
  },
  {
   "cell_type": "code",
   "execution_count": 66,
   "id": "1bc32463-aedb-457b-8b40-91d69c2088ab",
   "metadata": {},
   "outputs": [],
   "source": [
    "# class DateTranslation(keras.models.Model):\n",
    "#     def __init__(self, units=128, encoder_embedding_size=32,\n",
    "#                  decoder_embedding_size=32, **kwargs):\n",
    "#         super().__init__(**kwargs)\n",
    "#         self.encoder_embedding = keras.layers.Embedding(\n",
    "#             input_dim=len(INPUT_CHARS) + 1,\n",
    "#             output_dim=encoder_embedding_size)\n",
    "#         self.encoder = keras.layers.LSTM(units,\n",
    "#                                          return_sequences=True,\n",
    "#                                          return_state=True)\n",
    "#         self.decoder_embedding = keras.layers.Embedding(\n",
    "#             input_dim=len(OUTPUT_CHARS) + 2,\n",
    "#             output_dim=decoder_embedding_size)\n",
    "#         self.attention = tfa.seq2seq.LuongAttention(units)\n",
    "#         decoder_inner_cell = keras.layers.LSTMCell(units)\n",
    "#         self.decoder_cell = tfa.seq2seq.AttentionWrapper(\n",
    "#             cell=decoder_inner_cell,\n",
    "#             attention_mechanism=self.attention)\n",
    "#         output_layer = keras.layers.Dense(len(OUTPUT_CHARS) + 1)\n",
    "#         self.decoder = tfa.seq2seq.BasicDecoder(\n",
    "#             cell=self.decoder_cell,\n",
    "#             sampler=tfa.seq2seq.sampler.TrainingSampler(),\n",
    "#             output_layer=output_layer)\n",
    "#         self.inference_decoder = tfa.seq2seq.BasicDecoder(\n",
    "#             cell=self.decoder_cell,\n",
    "#             sampler=tfa.seq2seq.sampler.GreedyEmbeddingSampler(\n",
    "#                 embedding_fn=self.decoder_embedding),\n",
    "#             output_layer=output_layer,\n",
    "#             maximum_iterations=max_output_length)\n",
    "\n",
    "#     def call(self, inputs, training=None):\n",
    "#         encoder_input, decoder_input = inputs\n",
    "#         encoder_embeddings = self.encoder_embedding(encoder_input)\n",
    "#         encoder_outputs, encoder_state_h, encoder_state_c = self.encoder(\n",
    "#             encoder_embeddings,\n",
    "#             training=training)\n",
    "#         encoder_state = [encoder_state_h, encoder_state_c]\n",
    "\n",
    "#         self.attention(encoder_outputs,\n",
    "#                        setup_memory=True)\n",
    "        \n",
    "#         decoder_embeddings = self.decoder_embedding(decoder_input)\n",
    "\n",
    "#         decoder_initial_state = self.decoder_cell.get_initial_state(\n",
    "#             decoder_embeddings)\n",
    "#         decoder_initial_state = decoder_initial_state.clone(\n",
    "#             cell_state=encoder_state)\n",
    "        \n",
    "#         if training:\n",
    "#             decoder_outputs, _, _ = self.decoder(\n",
    "#                 decoder_embeddings,\n",
    "#                 initial_state=decoder_initial_state,\n",
    "#                 training=training)\n",
    "#         else:\n",
    "#             start_tokens = tf.zeros_like(encoder_input[:, 0]) + sos_id\n",
    "#             decoder_outputs, _, _ = self.inference_decoder(\n",
    "#                 decoder_embeddings,\n",
    "#                 initial_state=decoder_initial_state,\n",
    "#                 start_tokens=start_tokens,\n",
    "#                 end_token=0)\n",
    "\n",
    "#         return tf.nn.softmax(decoder_outputs.rnn_output)"
   ]
  },
  {
   "cell_type": "code",
   "execution_count": 67,
   "id": "b781a406-8ae5-4343-a521-ec4086fb089e",
   "metadata": {},
   "outputs": [],
   "source": [
    "# np.random.seed(42)\n",
    "# tf.random.set_seed(42)\n",
    "\n",
    "# model = DateTranslation()\n",
    "# optimizer = keras.optimizers.Nadam()\n",
    "# model.compile(loss=\"sparse_categorical_crossentropy\", optimizer=optimizer,\n",
    "#               metrics=[\"accuracy\"])\n",
    "# history = model.fit([X_train, X_train_decoder], Y_train, epochs=25,\n",
    "#                     validation_data=([X_valid, X_valid_decoder], Y_valid))"
   ]
  },
  {
   "cell_type": "code",
   "execution_count": 68,
   "id": "40c95274-1662-409c-9311-3ac476c5d727",
   "metadata": {},
   "outputs": [],
   "source": [
    "# def fast_predict_date_strs_v2(date_strs):\n",
    "#     X = prepare_date_strs_padded(date_strs)\n",
    "#     X_decoder = tf.zeros(shape=(len(X), max_output_length), dtype=tf.int32)\n",
    "#     Y_probas = model.predict([X, X_decoder])\n",
    "#     Y_pred = tf.argmax(Y_probas, axis=-1)\n",
    "#     return ids_to_date_strs(Y_pred)"
   ]
  },
  {
   "cell_type": "code",
   "execution_count": 69,
   "id": "90e5ae0c-db56-42b0-820e-34848f87ee88",
   "metadata": {},
   "outputs": [],
   "source": [
    "# fast_predict_date_strs_v2([\"July 14, 1789\", \"May 01, 2020\"])"
   ]
  },
  {
   "cell_type": "markdown",
   "id": "16fdd647-f2d0-4592-bf70-0d39e1b3826d",
   "metadata": {},
   "source": [
    "### 16.6.10"
   ]
  },
  {
   "cell_type": "markdown",
   "id": "9b98034f-97d8-4730-82bf-2b880d254c5a",
   "metadata": {},
   "source": [
    "Exercise: Go through TensorFlow's Neural Machine Translation with Attention tutorial."
   ]
  },
  {
   "cell_type": "markdown",
   "id": "127a2534-4442-41ca-9f9e-69e77ba1fc80",
   "metadata": {},
   "source": [
    "### 16.6.11"
   ]
  },
  {
   "cell_type": "code",
   "execution_count": 71,
   "id": "3f781b41-4c30-4b10-87ed-efa8ff2e606b",
   "metadata": {},
   "outputs": [
    {
     "data": {
      "application/vnd.jupyter.widget-view+json": {
       "model_id": "af7760262eb146f0bad3bbe5595313bf",
       "version_major": 2,
       "version_minor": 0
      },
      "text/plain": [
       "Downloading:   0%|          | 0.00/656 [00:00<?, ?B/s]"
      ]
     },
     "metadata": {},
     "output_type": "display_data"
    },
    {
     "data": {
      "application/vnd.jupyter.widget-view+json": {
       "model_id": "64f240f839f74057ac13aae81de18d3e",
       "version_major": 2,
       "version_minor": 0
      },
      "text/plain": [
       "Downloading:   0%|          | 0.00/466M [00:00<?, ?B/s]"
      ]
     },
     "metadata": {},
     "output_type": "display_data"
    },
    {
     "name": "stderr",
     "output_type": "stream",
     "text": [
      "2022-01-31 00:06:39.351441: W tensorflow/python/util/util.cc:368] Sets are not currently considered sequences, but this may change in the future, so consider avoiding using them.\n",
      "All model checkpoint layers were used when initializing TFOpenAIGPTLMHeadModel.\n",
      "\n",
      "All the layers of TFOpenAIGPTLMHeadModel were initialized from the model checkpoint at openai-gpt.\n",
      "If your task is similar to the task the model of the checkpoint was trained on, you can already use TFOpenAIGPTLMHeadModel for predictions without further training.\n"
     ]
    }
   ],
   "source": [
    "from transformers import TFOpenAIGPTLMHeadModel\n",
    "\n",
    "model = TFOpenAIGPTLMHeadModel.from_pretrained(\"openai-gpt\")"
   ]
  },
  {
   "cell_type": "code",
   "execution_count": 72,
   "id": "14425775-966f-47af-bd0a-f7d8a3492bea",
   "metadata": {},
   "outputs": [
    {
     "data": {
      "application/vnd.jupyter.widget-view+json": {
       "model_id": "a7b3b97bf9b34bc89b162d68dbcdcb0f",
       "version_major": 2,
       "version_minor": 0
      },
      "text/plain": [
       "Downloading:   0%|          | 0.00/816k [00:00<?, ?B/s]"
      ]
     },
     "metadata": {},
     "output_type": "display_data"
    },
    {
     "data": {
      "application/vnd.jupyter.widget-view+json": {
       "model_id": "d42369a6bb2444c98647ff6f05ad6ee2",
       "version_major": 2,
       "version_minor": 0
      },
      "text/plain": [
       "Downloading:   0%|          | 0.00/458k [00:00<?, ?B/s]"
      ]
     },
     "metadata": {},
     "output_type": "display_data"
    },
    {
     "data": {
      "application/vnd.jupyter.widget-view+json": {
       "model_id": "3a6faa26f7e147128e3c99415372427c",
       "version_major": 2,
       "version_minor": 0
      },
      "text/plain": [
       "Downloading:   0%|          | 0.00/1.27M [00:00<?, ?B/s]"
      ]
     },
     "metadata": {},
     "output_type": "display_data"
    },
    {
     "name": "stderr",
     "output_type": "stream",
     "text": [
      "ftfy or spacy is not installed using BERT BasicTokenizer instead of SpaCy & ftfy.\n"
     ]
    }
   ],
   "source": [
    "from transformers import OpenAIGPTTokenizer\n",
    "\n",
    "tokenizer = OpenAIGPTTokenizer.from_pretrained(\"openai-gpt\")"
   ]
  },
  {
   "cell_type": "code",
   "execution_count": 73,
   "id": "b1a17e58-d5c8-41ac-9f18-76e5787486a0",
   "metadata": {},
   "outputs": [
    {
     "data": {
      "text/plain": [
       "<tf.Tensor: shape=(1, 10), dtype=int32, numpy=\n",
       "array([[  616,  5751,  6404,   498,  9606,   240,   616, 26271,  7428,\n",
       "        16187]], dtype=int32)>"
      ]
     },
     "execution_count": 73,
     "metadata": {},
     "output_type": "execute_result"
    }
   ],
   "source": [
    "prompt_text = \"This royal throne of kings, this sceptred isle\"\n",
    "encoded_prompt = tokenizer.encode(prompt_text,\n",
    "                                  add_special_tokens=False,\n",
    "                                  return_tensors=\"tf\")\n",
    "encoded_prompt"
   ]
  },
  {
   "cell_type": "code",
   "execution_count": 74,
   "id": "f72f57b8-d239-4934-ae2e-7cb2d619d053",
   "metadata": {},
   "outputs": [
    {
     "data": {
      "text/plain": [
       "<tf.Tensor: shape=(5, 50), dtype=int32, numpy=\n",
       "array([[  616,  5751,  6404,   498,  9606,   240,   616, 26271,  7428,\n",
       "        16187,   240,   256,   603,  6235, 40477,   256,   640,   655,\n",
       "        12703,   498,  2233,   260,  2306,   793,   597,   240,   784,\n",
       "          620,  7232,   557,   481,  5987,   498,   873,  5206,  1645,\n",
       "          257,   256,   864, 22252,   239,   256,   488,   512,   640,\n",
       "          481,   566,   763,  2242,   616],\n",
       "       [  616,  5751,  6404,   498,  9606,   240,   616, 26271,  7428,\n",
       "        16187,   240,   568,  1359,   246,  6903,  6260,   815,   520,\n",
       "          488,  1158,   239, 40477,   806,   481, 17135, 11547,   999,\n",
       "          754,  4868,   485,   481,  4187,   240,   481, 33063,   641,\n",
       "          999,  1552,   485, 18471,   562,  2646,   239,   568,   645,\n",
       "          655,   509,   775,  1889,   485],\n",
       "       [  616,  5751,  6404,   498,  9606,   240,   616, 26271,  7428,\n",
       "        16187,  1598,  4103,   557,   246, 14973,  7346,   500,   481,\n",
       "          835,   498,  1595, 15591,   239,   481,  4059,   498,  1818,\n",
       "         4223,   980,  6614,   246, 10593, 30576,   240,   568,   481,\n",
       "         1203, 12407,   544,   843,  1741,  6578,   485,  2815,   239,\n",
       "          256, 40477,   256,   599,   587],\n",
       "       [  616,  5751,  6404,   498,  9606,   240,   616, 26271,  7428,\n",
       "        16187,   239, 40477,   806,   544,   481,   618,   257,   895,\n",
       "          544,   487,   595,   793,   257,   256, 40477,   256,   487,\n",
       "         1040,   666, 18050,   240,   249,  1441,   239,   249,  3083,\n",
       "          487,   812,  2294,   240,   645,   487,   980,   694,  4457,\n",
       "          562,   239,   645,   620,   240],\n",
       "       [  616,  5751,  6404,   498,  9606,   240,   616, 26271,  7428,\n",
       "        16187,  1259,  1359,   604,   246,  7047,   239,   244, 40477,\n",
       "          244,   547,   618,   544,   770,   240,   244,   246,  1002,\n",
       "         3397,   551,   488, 29579,   535,   756,  3879,  2738,  1990,\n",
       "          481,   737,   498,   481,  2264,   239,   618, 17950,   249,\n",
       "         1137,   655,   240,  1081,   491]], dtype=int32)>"
      ]
     },
     "execution_count": 74,
     "metadata": {},
     "output_type": "execute_result"
    }
   ],
   "source": [
    "num_sequences = 5\n",
    "length = 40\n",
    "\n",
    "generated_sequences = model.generate(\n",
    "    input_ids=encoded_prompt,\n",
    "    do_sample=True,\n",
    "    max_length=length + len(encoded_prompt[0]),\n",
    "    temperature=1.0,\n",
    "    top_k=0,\n",
    "    top_p=0.9,\n",
    "    repetition_penalty=1.0,\n",
    "    num_return_sequences=num_sequences,\n",
    ")\n",
    "\n",
    "generated_sequences"
   ]
  },
  {
   "cell_type": "code",
   "execution_count": 75,
   "id": "f7f56b13-ca60-4e03-84f8-8f67f0603ae9",
   "metadata": {},
   "outputs": [
    {
     "name": "stdout",
     "output_type": "stream",
     "text": [
      "this royal throne of kings, this sceptred isle,'said i. \n",
      "'are there wizards of middle - earth here now, even so mighty as the duke of stapleton?'asked gandalf.'and you are the one who knows this\n",
      "--------------------------------------------------------------------------------\n",
      "this royal throne of kings, this sceptred isle, but also a realm greater than she and father. \n",
      " where the ruling fathers left their fate to the gods, the courtiers were left alone to fend for themselves. but if there was any chance to\n",
      "--------------------------------------------------------------------------------\n",
      "this royal throne of kings, this sceptred isle may serve as a fortification in the face of either foe. the port of perivor has contained a sufficient buffer, but the three rivers is still quite vulnerable to attack.'\n",
      "'what do\n",
      "--------------------------------------------------------------------------------\n",
      "this royal throne of kings, this sceptred isle. \n",
      " where is the king? why is he not here?'\n",
      "'he went into exile, i believe. i expect he will return, if he has been cared for. if so,\n",
      "--------------------------------------------------------------------------------\n",
      "this royal throne of kings, this sceptred isle must also have a crown. \" \n",
      " \" my king is right, \" a voice rang out and halfdan's head jerked round towards the side of the hall. king lambi stood there, looking at\n",
      "--------------------------------------------------------------------------------\n"
     ]
    }
   ],
   "source": [
    "for sequence in generated_sequences:\n",
    "    text = tokenizer.decode(sequence, clean_up_tokenization_spaces=True)\n",
    "    print(text)\n",
    "    print(\"-\" * 80)"
   ]
  }
 ],
 "metadata": {
  "kernelspec": {
   "display_name": "Python 3 (ipykernel)",
   "language": "python",
   "name": "python3"
  },
  "language_info": {
   "codemirror_mode": {
    "name": "ipython",
    "version": 3
   },
   "file_extension": ".py",
   "mimetype": "text/x-python",
   "name": "python",
   "nbconvert_exporter": "python",
   "pygments_lexer": "ipython3",
   "version": "3.8.12"
  }
 },
 "nbformat": 4,
 "nbformat_minor": 5
}
